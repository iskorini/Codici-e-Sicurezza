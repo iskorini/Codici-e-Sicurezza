{
 "cells": [
  {
   "cell_type": "markdown",
   "metadata": {
    "collapsed": true
   },
   "source": [
    "# Secondo set di  Esercizi\n",
    "\n",
    "#### Federico Schipani, 6185896, [federico.schipani@stud.unifi.it](mailto:federico.schipani@stud.unifi.it)\n",
    "\n",
    "##### Prerequisiti\n",
    "Per eseguire in maniera interattiva questo notebook è necessario avviare un server Jupyter. Se si fa uso dell'interprete Anaconda questo risulta già installato, sennò è necessario installarlo con il comando:\n",
    "\n",
    "```\n",
    "pip install jupyter\n",
    "```\n",
    "Una volta completata l'installazione per avviare il server è sufficiente aprire un terminale, posizionarsi nella cartella dove è stato salvato questo notebook e dare il comando\n",
    "```\n",
    "jupyter notebook\n",
    "```\n",
    "successivamente si aprirà una finestra del browser dove è possibile selezionare il notebook da eseguire.\n",
    "\n",
    "Per questo notebook è stato fatto uso di una [libreria](https://github.com/jupyter-widgets/ipywidgets) per generare widget interattivi in HTML, per installare questa libreria è sufficiente dare i seguenti due comandi sul terminale:\n",
    "```\n",
    "pip install ipywidgets\n",
    "jupyter nbextension enable --py widgetsnbextension\n",
    "```\n",
    "Se dovessero esserci problemi con la visualizzazione dei widgets:\n",
    "```\n",
    "jupyter nbextension install --py widgetsnbextension\n",
    "jupyter nbextension enable jupyter-js-widgets/extension\n",
    "```"
   ]
  },
  {
   "cell_type": "markdown",
   "metadata": {},
   "source": [
    "### Primo esercizio di programmazione"
   ]
  },
  {
   "cell_type": "markdown",
   "metadata": {},
   "source": [
    "Il seguente esercizio richiedeva innanzitutto di implementare cinque algoritmi:\n",
    "1. Algoritmo di Euclide esteso\n",
    "2. Algoritmo di esponenziazione modulare veloce\n",
    "3. Test di Miller-Rabin\n",
    "4. Algoritmo per la generazione di numeri primi\n",
    "5. Schema RSA, con e senza ottimizzazione CRT\n",
    "\n",
    "\n",
    "Vediamo le varie implementazioni in ordine. Partiamo innanzitutto importando le librerie necessarie."
   ]
  },
  {
   "cell_type": "code",
   "execution_count": 1,
   "metadata": {
    "collapsed": true
   },
   "outputs": [],
   "source": [
    "import math\n",
    "import random\n",
    "import timeit\n",
    "from ipywidgets import widgets, interact_manual, interact, interactive, fixed\n",
    "from IPython.display import display\n",
    "import sys\n",
    "from IPython.core.display import clear_output\n",
    "def change_output(x):\n",
    "    clear_output()\n",
    "    sys.stdout.write(str(x))\n",
    "    sys.stdout.flush()"
   ]
  },
  {
   "cell_type": "markdown",
   "metadata": {},
   "source": [
    "#### Algoritmo di Euclide esteso\n",
    "Il codice che mostra l'algoritmo di Euclide Esteso è mostrato nel box sottostante. Questo algoritmo calcola l'MCD tra il numero $a$ e il numero $b$ e restituisce una tupla dove il primo elemento è l'MCD, ed il secondo è l'eventuale inverso di $a\\ mod\\ b$.\n",
    "Questo inverso esiste solo se l'MCD è uguale a $1$."
   ]
  },
  {
   "cell_type": "code",
   "execution_count": 2,
   "metadata": {},
   "outputs": [
    {
     "data": {
      "application/vnd.jupyter.widget-view+json": {
       "model_id": "ed13c602c3254f018cba1c55e782c5bf"
      }
     },
     "metadata": {},
     "output_type": "display_data"
    }
   ],
   "source": [
    "def extended_euclidean_algorithm(a, b):\n",
    "    rm = b\n",
    "    rm1 = a\n",
    "    qm1 = 1\n",
    "    t = 0\n",
    "    while rm1 != 0:\n",
    "        q = math.floor(rm / rm1)\n",
    "        temp = t\n",
    "        t = qm1\n",
    "        qm1 = temp - q * qm1\n",
    "        temp = rm\n",
    "        rm = rm1\n",
    "        rm1 = temp - q * rm1\n",
    "    if t < 0:\n",
    "        t = t + b\n",
    "    if rm>1:\n",
    "        t = \"ND\"\n",
    "    return rm, t\n",
    "euclidean_w = interact(extended_euclidean_algorithm, a = widgets.IntText(description = \"a: \"), b = widgets.IntText(description = \"b: \"))"
   ]
  },
  {
   "cell_type": "markdown",
   "metadata": {},
   "source": [
    "#### Algoritmo di esponenziazione modulare veloce\n",
    "\n",
    "Questo algoritmo permette di calcolare in maniera efficiente e veloce il risultato di $a^{n}\\ mod\\ m$."
   ]
  },
  {
   "cell_type": "code",
   "execution_count": 3,
   "metadata": {},
   "outputs": [
    {
     "data": {
      "application/vnd.jupyter.widget-view+json": {
       "model_id": "0658b89b7bbe45c29557e814aa1b82f1"
      }
     },
     "metadata": {},
     "output_type": "display_data"
    },
    {
     "data": {
      "text/plain": [
       "<function __main__.fast_exp_alg>"
      ]
     },
     "execution_count": 3,
     "metadata": {},
     "output_type": "execute_result"
    }
   ],
   "source": [
    "def fast_exp_alg(a, n, m):\n",
    "    d, c = 1, 0\n",
    "    bin_n = \"{0:b}\".format(n)\n",
    "    for i in bin_n:\n",
    "        d = (d * d) % m\n",
    "        if int(i) == 1:\n",
    "            d = (d * a) % m\n",
    "    return d\n",
    "aw = widgets.IntText(description  = \"a: \", value = 3)\n",
    "nw = widgets.IntText(description = \"n: \", value = 3)\n",
    "mw = widgets.IntText(description = \"m: \", value = 3)\n",
    "interact(fast_exp_alg, a = aw, n = nw, m = mw)"
   ]
  },
  {
   "cell_type": "markdown",
   "metadata": {},
   "source": [
    "#### Test di Miller-Rabin\n",
    "\n",
    "Il test di Miller-Rabin serve per verificare se un numero è composto. Questo test richiede due argomenti $x$ ed $n$. Se il valore di ritorno è $true$ allora siamo certi che il numero $x$ sia composto, e diciamo che $n$ è testimone di Rabin per $x$.\n",
    "Se invece il test ritorna il valore $false$ non possiamo dire con certezza che il numero non sia composto, quindi occorre rieseguire un numero di volte abbastanza elevato per ridurre la probabilità di errore. La probabilità che il test restituisca $false$ con $x$ composto è di $\\frac{1}{4}$, quindi se si esegue il test $m$ volte con $n$ diversi la probabilità si riduce a $\\frac{1}{4^{m}} = 4^{-m}$."
   ]
  },
  {
   "cell_type": "code",
   "execution_count": 4,
   "metadata": {},
   "outputs": [
    {
     "data": {
      "application/vnd.jupyter.widget-view+json": {
       "model_id": "aa843deb9fea469286971a75113b0e1e"
      }
     },
     "metadata": {},
     "output_type": "display_data"
    }
   ],
   "source": [
    "def rabin_test(x, n):\n",
    "    m, r, xr = n - 1, 0, []\n",
    "    while m % 2 == 0:\n",
    "        m = m // 2\n",
    "        r = r + 1\n",
    "    xr.append(fast_exp_alg(x, m, n))\n",
    "    for i in range(1, r + 1):\n",
    "        xr.append(fast_exp_alg(xr[i - 1], 2, n))\n",
    "    return (xr[0] != 1) and all(xi % n != n - 1 for xi in xr[0:-1])\n",
    "rabin_test_w = interact(rabin_test, x = widgets.IntText(description = \"x: \", value = 3), n = widgets.IntText(description = \"n: \", value = 2))"
   ]
  },
  {
   "cell_type": "markdown",
   "metadata": {},
   "source": [
    "#### Algoritmo per la generazione di numeri primi\n",
    "\n",
    "Questo algoritmo fa uso del test di Miller-Rabin per la generazione di un numero  primo di dimensione massima $10^{limit}$.\n",
    "L'algoritmo richiede un altro paramentro, ovvero $accuracy$, questo parametro non è altro che un intero che serve ad indicare quante volte ripetere il test di Miller-Rabin per il numero generato casualmente. "
   ]
  },
  {
   "cell_type": "code",
   "execution_count": 5,
   "metadata": {},
   "outputs": [
    {
     "data": {
      "application/vnd.jupyter.widget-view+json": {
       "model_id": "f00794471bb542deb9396525ad52fcac"
      }
     },
     "metadata": {},
     "output_type": "display_data"
    },
    {
     "data": {
      "application/vnd.jupyter.widget-view+json": {
       "model_id": "4f17eaaa068240b99e93aa8c9246d013"
      }
     },
     "metadata": {},
     "output_type": "display_data"
    },
    {
     "data": {
      "application/vnd.jupyter.widget-view+json": {
       "model_id": "96b3c741abd54a5795c5db9534054ea5"
      }
     },
     "metadata": {},
     "output_type": "display_data"
    }
   ],
   "source": [
    "def generate_random_prime(minimum, limit, accuracy):\n",
    "    random_number = 0\n",
    "    condition = True\n",
    "    while condition:\n",
    "        random_number = random.randint(minimum, limit)\n",
    "        if random_number % 2 != 0:\n",
    "            test_sample = [random.randint(2, limit) for i in range(0, accuracy)]\n",
    "            condition = any(rabin_test(x, random_number) for x in test_sample)\n",
    "    return random_number\n",
    "\n",
    "prime_slider_limit_1 = widgets.IntSlider(min = 2, max = 100, step = 1, description = \"numero di cifre: \")\n",
    "prime_slider_accuracy_1 = widgets.IntSlider(min = 1, max = 50, step = 1, description = \"accuracy: \")\n",
    "prime_button_generate = widgets.Button(description = \"Genera\")\n",
    "def run_test_prime_1(b):\n",
    "    print(generate_random_prime(10**(prime_slider_limit_1.value-1),(10**(prime_slider_limit_1.value)-1) , prime_slider_accuracy_1.value))\n",
    "prime_button_generate.on_click(run_test_prime_1)\n",
    "display(prime_slider_limit_1)\n",
    "display(prime_slider_accuracy_1)\n",
    "display(prime_button_generate)"
   ]
  },
  {
   "cell_type": "markdown",
   "metadata": {},
   "source": [
    "Verifichiamo ora i tempi di esecuzione dell'algoritmo variando $limit$ e $accuracy$."
   ]
  },
  {
   "cell_type": "code",
   "execution_count": 6,
   "metadata": {},
   "outputs": [
    {
     "data": {
      "application/vnd.jupyter.widget-view+json": {
       "model_id": "9e81458c47b746e7bf4ced46df7eb941"
      }
     },
     "metadata": {},
     "output_type": "display_data"
    },
    {
     "data": {
      "application/vnd.jupyter.widget-view+json": {
       "model_id": "e55188d6aded4217b5793044e5f435df"
      }
     },
     "metadata": {},
     "output_type": "display_data"
    },
    {
     "data": {
      "application/vnd.jupyter.widget-view+json": {
       "model_id": "1f4f147d64184173b207f8eb13962783"
      }
     },
     "metadata": {},
     "output_type": "display_data"
    }
   ],
   "source": [
    "prime_slider_limit = widgets.IntSlider(min = 2, max = 100, step = 1, description = \"numero di cifre: \")\n",
    "prime_slider_accuracy = widgets.IntSlider(min = 1, max = 50, step = 1, description = \"accuracy: \")\n",
    "prime_button_run = widgets.Button(description = \"Esegui test\")\n",
    "def run_test_prime(b):\n",
    "    %timeit -n 100 generate_random_prime(10**(prime_slider_limit.value-1), (10**(prime_slider_limit.value)-1), prime_slider_accuracy.value)\n",
    "prime_button_run.on_click(run_test_prime)\n",
    "display(prime_slider_limit)\n",
    "display(prime_slider_accuracy)\n",
    "display(prime_button_run)"
   ]
  },
  {
   "cell_type": "markdown",
   "metadata": {},
   "source": [
    "#### RSA\n",
    "\n",
    "Dopo aver implementato tutti gli algoritmi precedenti siamo pronti per implementare RSA. Sono state implementate due versioni, la prima standard, e la seconda che fa uso delle ottimizzazioni derivate dal Teorema Cinese Del Resto.\n",
    "\n",
    "Per prima cosa è stata definita una funzione che, dati due numeri primi $p$ e $q$ genera la chiave pubblica e privata. Il primo elemento della tupla che restituisce è la chiave pubblica che verrà usata per criptare il Plain Text, il secondo elemento invece è la chiave privata, che verrà usata per decriptare il Cypher Text.\n",
    "\n",
    "Durante la descrizione dell'algoritmo si seguirà l'esempio delle Note, per far sì che i risultati siano coerenti con quelli dell'esempio non possiamo generare casualmente il numero primo $d$, quindi verrà ECCEZIONALMENTE passato come input del generatore di chiave."
   ]
  },
  {
   "cell_type": "code",
   "execution_count": 7,
   "metadata": {},
   "outputs": [
    {
     "data": {
      "application/vnd.jupyter.widget-view+json": {
       "model_id": "b96d92ba4eca4dfda422622b45e5995b"
      }
     },
     "metadata": {},
     "output_type": "display_data"
    }
   ],
   "source": [
    "def generate_rsa_key(p, q, d):\n",
    "    n = p * q\n",
    "    phi = (p - 1) * (q - 1)\n",
    "    if d == 0:\n",
    "        d = generate_random_prime(2, n-1, 5)\n",
    "        while extended_euclidean_algorithm(d, phi)[0] != 1:\n",
    "            d = generate_random_prime(2, n-1, 16)\n",
    "    e = extended_euclidean_algorithm(d, phi)\n",
    "    kp = (e[1], n)\n",
    "    km = (d, n)\n",
    "    return kp, km\n",
    "standard_keys = interactive(generate_rsa_key, \n",
    "         p = widgets.IntText(description = \"p: \", value = 3), \n",
    "         q = widgets.IntText(description = \"q: \", value = 11), \n",
    "         d = widgets.IntText(description = \"d: \", value = 7))\n",
    "display(standard_keys)"
   ]
  },
  {
   "cell_type": "markdown",
   "metadata": {},
   "source": [
    "Con le chiavi appena generate è possibile cifrare un Plain Text $m$.\n"
   ]
  },
  {
   "cell_type": "code",
   "execution_count": 8,
   "metadata": {},
   "outputs": [
    {
     "data": {
      "application/vnd.jupyter.widget-view+json": {
       "model_id": "2ae6995784f445b786cf8189a0068493"
      }
     },
     "metadata": {},
     "output_type": "display_data"
    }
   ],
   "source": [
    "def rsa_encrypt(m, kp):\n",
    "    return fast_exp_alg(m, kp[0], kp[1])\n",
    "standard_cypher_text = interactive(rsa_encrypt, m = widgets.IntText(description = \"m: \", value = 8), kp = fixed(standard_keys.result[0]))\n",
    "display(standard_cypher_text)"
   ]
  },
  {
   "cell_type": "markdown",
   "metadata": {},
   "source": [
    "Dato il Cypher Text appena generato proviamo a decriptarlo per vedere se si ottiene lo stesso $m$ passatogli in input."
   ]
  },
  {
   "cell_type": "code",
   "execution_count": 9,
   "metadata": {},
   "outputs": [
    {
     "data": {
      "application/vnd.jupyter.widget-view+json": {
       "model_id": "406ec90fbd8e492894d45b3a778cd168"
      }
     },
     "metadata": {},
     "output_type": "display_data"
    },
    {
     "data": {
      "application/vnd.jupyter.widget-view+json": {
       "model_id": "80ddb2b1e96445f9bab1f69e925bf41d"
      }
     },
     "metadata": {},
     "output_type": "display_data"
    }
   ],
   "source": [
    "def rsa_decrypt(c, km):\n",
    "    return fast_exp_alg(c, km[0], km[1])\n",
    "\n",
    "\n",
    "standard_decrypt = interactive(rsa_decrypt, c = fixed(standard_cypher_text.result), km = fixed(standard_keys.result[1]))\n",
    "decrypt_button = widgets.Button(description = \"Decrypt\")\n",
    "def decrypt_button_function(b):\n",
    "    change_output(rsa_decrypt(standard_cypher_text.result, standard_keys.result[1]))\n",
    "decrypt_button.on_click(decrypt_button_function)\n",
    "display(standard_decrypt)\n",
    "display(decrypt_button)"
   ]
  },
  {
   "cell_type": "markdown",
   "metadata": {},
   "source": [
    "Vediamo ora le ottimizzazioni che si possono ottenere attraverso l'uso del Teorema Cinese del resto.\n",
    "\n",
    "Innanzitutto cambia il modo di generare la chiave, in quanto la chiave privata non è più una tupla, ma una quintupla.\n",
    "Come prima, per seguire l'esempio delle note è necessario passare in input alla funzione di generazione della chiave un valore prefissato per $d$."
   ]
  },
  {
   "cell_type": "code",
   "execution_count": 10,
   "metadata": {},
   "outputs": [
    {
     "data": {
      "application/vnd.jupyter.widget-view+json": {
       "model_id": "5d3f9069481849269d674e73f3743cd0"
      }
     },
     "metadata": {},
     "output_type": "display_data"
    }
   ],
   "source": [
    "def generate_rsa_crt_key(p, q, d):\n",
    "    n = p * q\n",
    "    phi = (p - 1) * (q - 1)\n",
    "    if d == 0:\n",
    "        d = generate_random_prime(2, n - 1, 5)\n",
    "        while d != 1 and extended_euclidean_algorithm(d, phi)[0] != 1:\n",
    "            d = generate_random_prime(2, n-1, 5)\n",
    "    q_inv = extended_euclidean_algorithm(q, p)[1]\n",
    "    p_inv = extended_euclidean_algorithm(p, q)[1]\n",
    "    e = extended_euclidean_algorithm(d, phi)\n",
    "    kp = (e[1], n)\n",
    "    km = (p, q, d, p_inv*p, q_inv*q)\n",
    "    return kp, km\n",
    "\n",
    "crt_keys = interactive(generate_rsa_crt_key, \n",
    "         p = widgets.IntText(description = \"p: \", value = 3), \n",
    "         q = widgets.IntText(description = \"q: \", value = 11), \n",
    "         d = widgets.IntText(description = \"d: \", value = 7))\n",
    "display(crt_keys)"
   ]
  },
  {
   "cell_type": "markdown",
   "metadata": {},
   "source": [
    "Visto che la chiave pubblica che si usa per criptare il messaggio ha la stessa forma della chiave pubblica che si usa per la versione senza ottimizzazioni è possibile riusare la stessa funzione per criptare il messaggio."
   ]
  },
  {
   "cell_type": "code",
   "execution_count": 11,
   "metadata": {},
   "outputs": [
    {
     "data": {
      "application/vnd.jupyter.widget-view+json": {
       "model_id": "8388f47916e246159aff9576d7704071"
      }
     },
     "metadata": {},
     "output_type": "display_data"
    }
   ],
   "source": [
    "crt_cypher_text = interactive(rsa_encrypt, m = widgets.IntText(description = \"m: \", value = 8), kp = fixed(crt_keys.result[0]))\n",
    "display(crt_cypher_text)"
   ]
  },
  {
   "cell_type": "markdown",
   "metadata": {},
   "source": [
    "Infatti come si può notare il risultato è lo stesso.\n",
    "\n",
    "Vediamo ora se funziona tutto eseguendo la decodifica."
   ]
  },
  {
   "cell_type": "code",
   "execution_count": 12,
   "metadata": {},
   "outputs": [
    {
     "data": {
      "application/vnd.jupyter.widget-view+json": {
       "model_id": "ddce15d067a345eaa8b3dc029a7ff37b"
      }
     },
     "metadata": {},
     "output_type": "display_data"
    },
    {
     "data": {
      "application/vnd.jupyter.widget-view+json": {
       "model_id": "07a16ee979f74ecfae169ea58969abdc"
      }
     },
     "metadata": {},
     "output_type": "display_data"
    }
   ],
   "source": [
    "def rsa_decrypt_crt(c, km):\n",
    "    mp = fast_exp_alg(c, km[2], km[0])\n",
    "    mq = fast_exp_alg(c, km[2], km[1])\n",
    "    return ((mp * km[4]) + (mq * km[3]))%(km[0]*km[1])\n",
    "\n",
    "\n",
    "crt_decrypt = interactive(rsa_decrypt_crt, c = fixed(crt_cypher_text.result), km = fixed(crt_keys.result[1]))\n",
    "decrypt_crt_button = widgets.Button(description = \"Decrypt\")\n",
    "def decrypt_crt_button_function(b):\n",
    "    change_output(rsa_decrypt_crt(crt_cypher_text.result, crt_keys.result[1]))\n",
    "decrypt_crt_button.on_click(decrypt_crt_button_function)\n",
    "display(crt_decrypt)\n",
    "display(decrypt_crt_button)"
   ]
  },
  {
   "cell_type": "markdown",
   "metadata": {
    "collapsed": true
   },
   "source": [
    "Come richiesto dal testo dell'esercizio effettuiamo un test delle prestazioni, innanzitutto fissiamo un $p$ ed un $q$ di dimensione realistica, e calcoliamo quindi il modulo RSA $n$.\n",
    "Ovviamente devo fissare anche il valore $d$ in maniera tale da generare lo stesso set di chiavi per la versione CRT e standard."
   ]
  },
  {
   "cell_type": "code",
   "execution_count": 13,
   "metadata": {},
   "outputs": [],
   "source": [
    "dim = 300\n",
    "def generate_test_case(dimension):\n",
    "    big_p_test = generate_random_prime(10**dimension, (10**(dimension+1))-1, 16)\n",
    "    big_q_test = generate_random_prime(10**dimension, (10**(dimension+1))-1, 16)\n",
    "    big_phi_test = (big_p_test - 1) * (big_q_test - 1)\n",
    "    big_n_test = big_p_test*big_q_test\n",
    "    big_d_test = generate_random_prime(2, big_n_test - 1, 16)\n",
    "    while big_d_test != 1 and extended_euclidean_algorithm(big_d_test, big_phi_test)[0] != 1:\n",
    "        big_d_test = generate_random_prime(2, big_n_test - 1, 16)\n",
    "    return big_p_test, big_q_test, big_d_test\n",
    "\n",
    "p_test, q_test, d_test = generate_test_case(dim)"
   ]
  },
  {
   "cell_type": "markdown",
   "metadata": {},
   "source": [
    "Generiamo quindi la chiave per RSA standard e RSA con ottimizzazioni CRT."
   ]
  },
  {
   "cell_type": "code",
   "execution_count": 14,
   "metadata": {},
   "outputs": [
    {
     "data": {
      "text/plain": [
       "((10181438166532690496284541019245254854096860232211705301117858905458804424041155156129441997451798368724533413839554468697218612368949839391872175803633824957319108846807382412956626980248658562900484982697806461644382877118529432442783596724347939920212995705214503706064277847623958841551823261992175443802154387401661882415825691775590038493549584502397159182600467892584666416051492846611842561443730544788558785298152175521319336911423934927561506972644320238817333398264491921174498743247397463971089270989992295696586729165874957320756391407531103736207449073543489856803675112141582575682128815,\n",
       "  30693132868323889673548873929179314741172494183036040327423356992658190019744687725165654292075958997357187371324319467258592766559445755084426722589846670952920563851918782650126519078168784897362985235345929470879826552895075747053773582229705119192684313079945841816322066677812459952822349914157994845350593795789489869399173230917727951879450621136755075023111686956000247250696951164595297782024134402203667564374216869654016884870109222927859875486707900786946453680999590960458130145162159456516816128564119265741671931538699228386133721702883892261660636657773771295373196539636398382702880771),\n",
       " (18084352157958182072560955071105364775150133656815109029425021247252918305004012607879489357354897707143295668773891378163440502392471476636957967287426623633046122742050538750230780466554884418325364948945520933557619352560475775052854568679662268246499681877231635068157410938928197484304926285809307294511936033051909455079686270621044214457410801624990123144676976325972106886038152567041195650373900059275214721410883331351413250438898082391100212615941615987674941879761476007342233401169171763645173691160048072396467492697537175938766673188885217748205307164346973311972456446807825563365971887,\n",
       "  30693132868323889673548873929179314741172494183036040327423356992658190019744687725165654292075958997357187371324319467258592766559445755084426722589846670952920563851918782650126519078168784897362985235345929470879826552895075747053773582229705119192684313079945841816322066677812459952822349914157994845350593795789489869399173230917727951879450621136755075023111686956000247250696951164595297782024134402203667564374216869654016884870109222927859875486707900786946453680999590960458130145162159456516816128564119265741671931538699228386133721702883892261660636657773771295373196539636398382702880771))"
      ]
     },
     "execution_count": 14,
     "metadata": {},
     "output_type": "execute_result"
    }
   ],
   "source": [
    "standard_test_keys = generate_rsa_key(p_test, q_test, d_test)\n",
    "standard_test_keys"
   ]
  },
  {
   "cell_type": "code",
   "execution_count": 15,
   "metadata": {},
   "outputs": [
    {
     "data": {
      "text/plain": [
       "((10181438166532690496284541019245254854096860232211705301117858905458804424041155156129441997451798368724533413839554468697218612368949839391872175803633824957319108846807382412956626980248658562900484982697806461644382877118529432442783596724347939920212995705214503706064277847623958841551823261992175443802154387401661882415825691775590038493549584502397159182600467892584666416051492846611842561443730544788558785298152175521319336911423934927561506972644320238817333398264491921174498743247397463971089270989992295696586729165874957320756391407531103736207449073543489856803675112141582575682128815,\n",
       "  30693132868323889673548873929179314741172494183036040327423356992658190019744687725165654292075958997357187371324319467258592766559445755084426722589846670952920563851918782650126519078168784897362985235345929470879826552895075747053773582229705119192684313079945841816322066677812459952822349914157994845350593795789489869399173230917727951879450621136755075023111686956000247250696951164595297782024134402203667564374216869654016884870109222927859875486707900786946453680999590960458130145162159456516816128564119265741671931538699228386133721702883892261660636657773771295373196539636398382702880771),\n",
       " (7535364030617285137036459563726664557818034416230528804516225430544242040331563877599592594558518401031832034003398080889035452509220063331015374740800234339211144864488757085796263637750544577871761783755577128161066977270964885188275382115334462945188670671538866889096231726364084820560656381005829,\n",
       "  4073211691381226692568441735892491226880224395036181516138673802292304756157657012350951958402668756288940265475546889837353409090816299326807182949653558480205026204831970330438889091575982014342387569223482732199108727808385254672640510886019208399949318932730301401373146020207446037018295778295399,\n",
       "  18084352157958182072560955071105364775150133656815109029425021247252918305004012607879489357354897707143295668773891378163440502392471476636957967287426623633046122742050538750230780466554884418325364948945520933557619352560475775052854568679662268246499681877231635068157410938928197484304926285809307294511936033051909455079686270621044214457410801624990123144676976325972106886038152567041195650373900059275214721410883331351413250438898082391100212615941615987674941879761476007342233401169171763645173691160048072396467492697537175938766673188885217748205307164346973311972456446807825563365971887,\n",
       "  1591122906011241777375470857010216625715312075319052316418794563362161212497112662381580258165034322965720742302009873730706290568319510281797048131924555096377666228623075852463877041525295717360441275654185038688340809439969589730007519660006589181823748716821303575108703430829716459329733979984142187961684480354032302980093037266340310704648411164823618335216494796721438002239534740922983258042612704504160721188744891909092501580776060572459881483268703727564652844177015508820607217770055587282834858384619655541317153459207078890905203308380159000207935380771980187406515637664889262127895762,\n",
       "  29102009962312647896173403072169098115457182107716988011004562429296028807247575062784074033910924674391466629022309593527886475991126244802629674457922115856542897623295706797662642036643489180002543959691744432191485743455106157323766062569698530010860564363124538241213363246982743493492615934173852657388909315435457566419080193651387641174802209971931456687895192159278809248457416423672314523981521697699506843185471977744924383289333162355399994003439197059381800836822575451637522927392103869233981270179499610200354778079492149495228518394503733261452701277001791107966680901971509120574985010))"
      ]
     },
     "execution_count": 15,
     "metadata": {},
     "output_type": "execute_result"
    }
   ],
   "source": [
    "crt_test_keys =  generate_rsa_crt_key(p_test, q_test, d_test)\n",
    "crt_test_keys"
   ]
  },
  {
   "cell_type": "markdown",
   "metadata": {
    "hideCode": false
   },
   "source": [
    "Effettuiamo ora un test delle prestazioni scegliendo 100 plain text casuali. Per prima cosa generiamo i 100 plain text, successivamente si cifrano."
   ]
  },
  {
   "cell_type": "code",
   "execution_count": 16,
   "metadata": {
    "collapsed": true
   },
   "outputs": [],
   "source": [
    "plain_text_test = [random.randint(1, 10**dim) for i in range(0, 100)]\n",
    "cypher_text_test = [rsa_encrypt(m, standard_test_keys[0]) for m in plain_text_test]"
   ]
  },
  {
   "cell_type": "markdown",
   "metadata": {},
   "source": [
    "Prima di effettuare un test sui tempi di decodifica dei messaggi vediamo se l'intera procedura funziona correttamente."
   ]
  },
  {
   "cell_type": "code",
   "execution_count": 17,
   "metadata": {},
   "outputs": [
    {
     "data": {
      "text/plain": [
       "True"
      ]
     },
     "execution_count": 17,
     "metadata": {},
     "output_type": "execute_result"
    }
   ],
   "source": [
    "result_vector = [rsa_decrypt(c, standard_test_keys[1]) for c in cypher_text_test]\n",
    "result_vector_2 = [rsa_decrypt_crt(c, crt_test_keys[1]) for c in cypher_text_test]\n",
    "result_vector == plain_text_test == result_vector_2"
   ]
  },
  {
   "cell_type": "markdown",
   "metadata": {},
   "source": [
    "Siamo ora pronti per verificare i tempi di esecuzione:"
   ]
  },
  {
   "cell_type": "code",
   "execution_count": 18,
   "metadata": {},
   "outputs": [
    {
     "name": "stdout",
     "output_type": "stream",
     "text": [
      "4.79 s ± 185 ms per loop (mean ± std. dev. of 7 runs, 1 loop each)\n"
     ]
    }
   ],
   "source": [
    "def decrypting_test(cypher_text, keys):\n",
    "    for c in cypher_text:\n",
    "        rsa_decrypt(c, keys)\n",
    "        \n",
    "standard_time = %timeit -o decrypting_test(cypher_text_test, standard_test_keys[1])"
   ]
  },
  {
   "cell_type": "markdown",
   "metadata": {},
   "source": [
    "Con gli stessi Cypher Text proviamo ora la versione ottimizzata che fa uso del Teorema Cinese del Resto."
   ]
  },
  {
   "cell_type": "code",
   "execution_count": 19,
   "metadata": {},
   "outputs": [
    {
     "name": "stdout",
     "output_type": "stream",
     "text": [
      "3.69 s ± 100 ms per loop (mean ± std. dev. of 7 runs, 1 loop each)\n"
     ]
    }
   ],
   "source": [
    "def decrypting_test_crt(cypher_text, keys):\n",
    "    for c in cypher_text:\n",
    "        rsa_decrypt_crt(c, keys)\n",
    "        \n",
    "crt_time = %timeit -o decrypting_test_crt(cypher_text_test, crt_test_keys[1])"
   ]
  },
  {
   "cell_type": "markdown",
   "metadata": {
    "collapsed": true
   },
   "source": [
    "Facendo una rapida operazione si può calcolare lo speedup in percentuale."
   ]
  },
  {
   "cell_type": "code",
   "execution_count": 20,
   "metadata": {},
   "outputs": [
    {
     "data": {
      "text/plain": [
       "29.776771356133125"
      ]
     },
     "execution_count": 20,
     "metadata": {},
     "output_type": "execute_result"
    }
   ],
   "source": [
    "def calc_speedup(time1, time2):\n",
    "    return ((time1 / time2)-1)*100\n",
    "calc_speedup(standard_time.average, crt_time.average)"
   ]
  },
  {
   "cell_type": "markdown",
   "metadata": {},
   "source": [
    "Come si può notare si ottiene speedup."
   ]
  }
 ],
 "metadata": {
  "kernelspec": {
   "display_name": "Python 3",
   "language": "python",
   "name": "python3"
  },
  "language_info": {
   "codemirror_mode": {
    "name": "ipython",
    "version": 3
   },
   "file_extension": ".py",
   "mimetype": "text/x-python",
   "name": "python",
   "nbconvert_exporter": "python",
   "pygments_lexer": "ipython3",
   "version": "3.6.1"
  },
  "widgets": {
   "state": {
    "003a502a88d4480890dfdba5c098c8fe": {
     "views": [
      {
       "cell_index": 13
      }
     ]
    },
    "051c10fcd4c44e9882a19d9f3efe5a98": {
     "views": [
      {
       "cell_index": 25
      }
     ]
    },
    "0cb05a0c28d943e6943e4b57437a1148": {
     "views": [
      {
       "cell_index": 13
      }
     ]
    },
    "0fa9cbcb647644b38fe592bc01f22d6c": {
     "views": [
      {
       "cell_index": 19
      }
     ]
    },
    "18c489b13a4c41648bdb4aa11a9a502c": {
     "views": [
      {
       "cell_index": 11
      }
     ]
    },
    "1b8527fd528d4861842f7896c8a87cf7": {
     "views": [
      {
       "cell_index": 11
      }
     ]
    },
    "27eadac3c7db4ebb87245f1bd80428cd": {
     "views": [
      {
       "cell_index": 11
      }
     ]
    },
    "33c9a44fb6534fc0bff98d011bccc42d": {
     "views": [
      {
       "cell_index": 15
      }
     ]
    },
    "373ef0cb662f418d888cb39233fd9b42": {
     "views": [
      {
       "cell_index": 13
      }
     ]
    },
    "5186fdcda1ad4e21ab8b9cac8c7cdb42": {
     "views": [
      {
       "cell_index": 5
      }
     ]
    },
    "5203de370fcb4ba6afd2edf2c0f1a70e": {
     "views": [
      {
       "cell_index": 11
      }
     ]
    },
    "62ab3a76c0aa45328e7654013f3616fa": {
     "views": [
      {
       "cell_index": 13
      }
     ]
    },
    "6713d51b2e45445d9f9954b42ccd0d7f": {
     "views": [
      {
       "cell_index": 17
      }
     ]
    },
    "7fa649354d8c421097b7db59764ca9df": {
     "views": [
      {
       "cell_index": 23
      }
     ]
    },
    "86d2006187014d1aab53daee8e1da7f5": {
     "views": [
      {
       "cell_index": 19
      }
     ]
    },
    "8e042d2067e646dda3ba6d18e3633fea": {
     "views": [
      {
       "cell_index": 19
      }
     ]
    },
    "9c2190c2c9014d219246aed798ec3c1b": {
     "views": [
      {
       "cell_index": 25
      }
     ]
    },
    "9d930a786ed74e2c836821b6bb1a1589": {
     "views": [
      {
       "cell_index": 19
      }
     ]
    },
    "a6cfccfafe7344b0ac38147ae09fdd01": {
     "views": [
      {
       "cell_index": 11
      }
     ]
    },
    "a7f837e24dac493ab81e49f56eb50a67": {
     "views": [
      {
       "cell_index": 9
      }
     ]
    },
    "b95f19b4858045faa329fbee9c6f4d5f": {
     "views": [
      {
       "cell_index": 21
      }
     ]
    },
    "bdaf94415ece4792b37480c53e6edbb2": {
     "views": [
      {
       "cell_index": 19
      }
     ]
    },
    "c1cabf4f3de54159a87a0b2ca073cc08": {
     "views": [
      {
       "cell_index": 25
      }
     ]
    },
    "c4df70c3486b48e19fed54b469c3d77d": {
     "views": [
      {
       "cell_index": 13
      }
     ]
    },
    "c6d5b3cd1704419cbbf18f7d9a8ae2b9": {
     "views": [
      {
       "cell_index": 25
      }
     ]
    },
    "d73e1a97eecb4b9a8ce293819088ecb8": {
     "views": [
      {
       "cell_index": 25
      }
     ]
    },
    "e8627bff4ee34acbba3becee091dbed8": {
     "views": [
      {
       "cell_index": 7
      }
     ]
    },
    "f5c598f1021a41bb9e8a82704cc6dc8e": {
     "views": [
      {
       "cell_index": 13
      }
     ]
    },
    "fa52c7c268954d2f8f7274df5bc7449b": {
     "views": [
      {
       "cell_index": 11
      }
     ]
    }
   },
   "version": "1.2.0"
  }
 },
 "nbformat": 4,
 "nbformat_minor": 1
}
