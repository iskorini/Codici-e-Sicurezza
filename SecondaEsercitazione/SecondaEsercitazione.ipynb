{
 "cells": [
  {
   "cell_type": "markdown",
   "metadata": {
    "collapsed": true
   },
   "source": [
    "# Secondo set di  Esercizi\n",
    "\n",
    "#### Federico Schipani\n",
    "#### 6185896"
   ]
  },
  {
   "cell_type": "markdown",
   "metadata": {},
   "source": [
    "### Primo esercizio di programmazione"
   ]
  },
  {
   "cell_type": "markdown",
   "metadata": {},
   "source": [
    "Il seguente esercizio richiedeva innanzitutto di implementare cinque algoritmi:\n",
    "1. Algoritmo di Euclide esteso\n",
    "2. Algoritmo di esponenziazione modulare veloce\n",
    "3. Test di Miller-Rabin\n",
    "4. Algoritmo per la generazione di numeri primi\n",
    "5. Schema RSA, con e senza ottimizzazione CRT\n",
    "\n",
    "\n",
    "Vediamo le varie implementazioni in ordine. Partiamo innanzitutto importando le librerie necessarie."
   ]
  },
  {
   "cell_type": "code",
   "execution_count": 1,
   "metadata": {
    "collapsed": true
   },
   "outputs": [],
   "source": [
    "import math\n",
    "import random\n",
    "import timeit\n",
    "from sympy import *\n",
    "from ipywidgets import widgets\n",
    "from IPython.display import display\n",
    "init_printing()"
   ]
  },
  {
   "cell_type": "markdown",
   "metadata": {},
   "source": [
    "Il codice che mostra l'algoritmo di Euclide Esteso è mostrato nel box sottostante"
   ]
  },
  {
   "cell_type": "code",
   "execution_count": 15,
   "metadata": {
    "collapsed": true
   },
   "outputs": [],
   "source": [
    "def extended_euclidean_algorithm(a, b):\n",
    "    rm = b\n",
    "    rm1 = a\n",
    "    qm1 = 1\n",
    "    t = 0\n",
    "    while rm1 != 0:\n",
    "        q = math.floor(rm / rm1)\n",
    "        temp = t\n",
    "        t = qm1\n",
    "        qm1 = temp - q * qm1\n",
    "        temp = rm\n",
    "        rm = rm1\n",
    "        rm1 = temp - q * rm1\n",
    "    if t < 0:\n",
    "        t = t + b\n",
    "    return rm, t"
   ]
  },
  {
   "cell_type": "markdown",
   "metadata": {},
   "source": [
    "Nel box sottostante è possibile provare l'algoritmo."
   ]
  },
  {
   "cell_type": "code",
   "execution_count": 16,
   "metadata": {
    "collapsed": false
   },
   "outputs": [],
   "source": [
    "input_a = widgets.IntText(value=17,description='a:',disabled=False)\n",
    "input_b = widgets.IntText(value=60, description='b:', disabled=False)\n",
    "def call_extended_euclidean_algorithm(b):\n",
    "    a = input_a.value\n",
    "    b = input_b.value\n",
    "    r = extended_euclidean_algorithm(a, b)\n",
    "    print(\"MCD: \",r[0])\n",
    "    print(\"Inverso di \"+str(a)+\" modulo \"+str(b)+\": \" ,r[1])\n",
    "button_euclidean = widgets.Button(description=\"Calcola\")\n",
    "button_euclidean.on_click(call_extended_euclidean_algorithm)\n",
    "display(input_a)\n",
    "display(input_b)\n",
    "display(button_euclidean)"
   ]
  },
  {
   "cell_type": "code",
   "execution_count": null,
   "metadata": {
    "collapsed": false
   },
   "outputs": [],
   "source": []
  },
  {
   "cell_type": "code",
   "execution_count": null,
   "metadata": {
    "collapsed": true
   },
   "outputs": [],
   "source": []
  }
 ],
 "metadata": {
  "kernelspec": {
   "display_name": "Python 3",
   "language": "python",
   "name": "python3"
  },
  "language_info": {
   "codemirror_mode": {
    "name": "ipython",
    "version": 3
   },
   "file_extension": ".py",
   "mimetype": "text/x-python",
   "name": "python",
   "nbconvert_exporter": "python",
   "pygments_lexer": "ipython3",
   "version": "3.6.0"
  },
  "widgets": {
   "state": {
    "00ce0f28895f4617b8b71672de1e5d9d": {
     "views": [
      {
       "cell_index": 7
      }
     ]
    },
    "0fd35d22f37146b898d3812a2f557b92": {
     "views": [
      {
       "cell_index": 7
      }
     ]
    },
    "4b445d284c9a4e04b3d04ff9268e88e9": {
     "views": [
      {
       "cell_index": 6
      }
     ]
    },
    "5c932d99cdf94452aa17ee0381ac8df0": {
     "views": [
      {
       "cell_index": 6
      }
     ]
    },
    "69cce75025d74f0caf9a3683a699044d": {
     "views": [
      {
       "cell_index": 6
      }
     ]
    },
    "772fa055d1594561ace8670011190f67": {
     "views": [
      {
       "cell_index": 7
      }
     ]
    },
    "b81dc155b10e41e8af3df039903b2f94": {
     "views": [
      {
       "cell_index": 6
      }
     ]
    },
    "c8bae05141e94c6b9d2b4fc1059f9f8f": {
     "views": [
      {
       "cell_index": 6
      },
      {
       "cell_index": 6
      },
      {
       "cell_index": 6
      }
     ]
    },
    "d591ee6215394393adf58d926bc344c6": {
     "views": [
      {
       "cell_index": 6
      }
     ]
    },
    "e1f2bcb017b04136aa2631cccece29ab": {
     "views": [
      {
       "cell_index": 6
      }
     ]
    },
    "e39a390b86a146d88cea556de10a4da7": {
     "views": [
      {
       "cell_index": 6
      }
     ]
    },
    "e50f3700154543d9a24a42535b3f75b3": {
     "views": [
      {
       "cell_index": 6
      }
     ]
    },
    "f396a68ddea24574bd4f1e632cc8dd59": {
     "views": [
      {
       "cell_index": 6
      },
      {
       "cell_index": 6
      }
     ]
    },
    "faf51265a8ce4b9eb3d7a5740ed90717": {
     "views": [
      {
       "cell_index": 6
      }
     ]
    }
   },
   "version": "1.2.0"
  }
 },
 "nbformat": 4,
 "nbformat_minor": 0
}
