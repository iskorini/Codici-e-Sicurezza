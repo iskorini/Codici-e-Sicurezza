{
 "cells": [
  {
   "cell_type": "markdown",
   "metadata": {
    "collapsed": true
   },
   "source": [
    "# Secondo set di  Esercizi\n",
    "\n",
    "#### Federico Schipani\n",
    "#### 6185896"
   ]
  },
  {
   "cell_type": "markdown",
   "metadata": {},
   "source": [
    "### Primo esercizio di programmazione"
   ]
  },
  {
   "cell_type": "markdown",
   "metadata": {},
   "source": [
    "Il seguente esercizio richiedeva innanzitutto di implementare cinque algoritmi:\n",
    "1. Algoritmo di Euclide esteso\n",
    "2. Algoritmo di esponenziazione modulare veloce\n",
    "3. Test di Miller-Rabin\n",
    "4. Algoritmo per la generazione di numeri primi\n",
    "5. Schema RSA, con e senza ottimizzazione CRT\n",
    "\n",
    "\n",
    "Vediamo le varie implementazioni in ordine. Partiamo innanzitutto importando le librerie necessarie."
   ]
  },
  {
   "cell_type": "code",
   "execution_count": 1,
   "metadata": {
    "collapsed": true
   },
   "outputs": [],
   "source": [
    "import math\n",
    "import random\n",
    "import timeit\n",
    "from sympy import *\n",
    "from ipywidgets import widgets, interact_manual, interact, interactive, fixed\n",
    "from IPython.display import display\n",
    "import sys\n",
    "from IPython.core.display import clear_output\n",
    "def change_output(x):\n",
    "    clear_output()\n",
    "    sys.stdout.write(str(x))\n",
    "    sys.stdout.flush()\n",
    "\n",
    "\n",
    "init_printing()"
   ]
  },
  {
   "cell_type": "markdown",
   "metadata": {},
   "source": [
    "#### Algoritmo di Euclide esteso\n",
    "Il codice che mostra l'algoritmo di Euclide Esteso è mostrato nel box sottostante. Questo algoritmo calcola l'MCD tra il numero $a$ e il numero $b$ e restituisce una tupla dove il primo elemento è l'MCD, ed il secondo è l'eventuale inverso di $a\\ mod\\ b$.\n",
    "Questo inverso esiste solo se l'MCD è uguale a $1$."
   ]
  },
  {
   "cell_type": "code",
   "execution_count": 2,
   "metadata": {
    "collapsed": false
   },
   "outputs": [
    {
     "data": {
      "image/png": "[encoded data removed]",
      "text/latex": [
       "$$\\left ( 0, \\quad 0\\right )$$"
      ],
      "text/plain": [
       "(0, 0)"
      ]
     },
     "metadata": {},
     "output_type": "display_data"
    }
   ],
   "source": [
    "def extended_euclidean_algorithm(a, b):\n",
    "    rm = b\n",
    "    rm1 = a\n",
    "    qm1 = 1\n",
    "    t = 0\n",
    "    while rm1 != 0:\n",
    "        q = math.floor(rm / rm1)\n",
    "        temp = t\n",
    "        t = qm1\n",
    "        qm1 = temp - q * qm1\n",
    "        temp = rm\n",
    "        rm = rm1\n",
    "        rm1 = temp - q * rm1\n",
    "    if t < 0:\n",
    "        t = t + b\n",
    "    if rm>1:\n",
    "        t = \"ND\"\n",
    "    return rm, t\n",
    "euclidean_w = interact(extended_euclidean_algorithm, a = widgets.IntText(description = \"a: \"), b = widgets.IntText(description = \"b: \"))"
   ]
  },
  {
   "cell_type": "markdown",
   "metadata": {
    "collapsed": false
   },
   "source": [
    "#### Algoritmo di esponenziazione modulare veloce\n",
    "\n",
    "Questo algoritmo permette di calcolare in maniera efficiente e veloce il risultato di $a^{n}\\ mod\\ m$."
   ]
  },
  {
   "cell_type": "code",
   "execution_count": 3,
   "metadata": {
    "collapsed": false
   },
   "outputs": [
    {
     "data": {
      "image/png": "[encoded data removed]",
      "text/latex": [
       "$$0$$"
      ],
      "text/plain": [
       "0"
      ]
     },
     "metadata": {},
     "output_type": "display_data"
    },
    {
     "data": {
      "text/plain": [
       "<function __main__.fast_exp_alg>"
      ]
     },
     "execution_count": 3,
     "metadata": {},
     "output_type": "execute_result"
    }
   ],
   "source": [
    "def fast_exp_alg(a, n, m):\n",
    "    d, c = 1, 0\n",
    "    bin_n = \"{0:b}\".format(n)\n",
    "    for i in bin_n:\n",
    "        d = (d * d) % m\n",
    "        if int(i) == 1:\n",
    "            d = (d * a) % m\n",
    "    return d\n",
    "aw = widgets.IntText(description  = \"a: \", value = 3)\n",
    "nw = widgets.IntText(description = \"n: \", value = 3)\n",
    "mw = widgets.IntText(description = \"m: \", value = 3)\n",
    "interact(fast_exp_alg, a = aw, n = nw, m = mw)"
   ]
  },
  {
   "cell_type": "markdown",
   "metadata": {},
   "source": [
    "#### Test di Miller-Rabin\n",
    "\n",
    "Il test di Miller-Rabin serve per verificare se un numero è composto. Questo test richiede due argomenti $x$ ed $n$. Se il valore di ritorno è $true$ allora siamo certi che il numero $x$ sia composto, e diciamo che $n$ è testimone di Rabin per $x$.\n",
    "Se invece il test ritorna il valore $false$ non possiamo dire con certezza che il numero non sia composto, quindi occorre rieseguire un numero di volte abbastanza elevato per ridurre la probabilità di errore. La probabilità che il test restituisca $false$ con $x$ composto è di $\\frac{1}{4}$, quindi se si esegue il test $m$ volte con $n$ diversi la probabilità si riduce a $\\frac{1}{4^{m}} = 4^{-m}$."
   ]
  },
  {
   "cell_type": "code",
   "execution_count": 4,
   "metadata": {
    "collapsed": false
   },
   "outputs": [
    {
     "data": {
      "text/plain": [
       "False"
      ]
     },
     "metadata": {},
     "output_type": "display_data"
    }
   ],
   "source": [
    "def rabin_test(x, n):\n",
    "    m, r, xr = n - 1, 0, []\n",
    "    while m % 2 == 0:\n",
    "        m = m // 2\n",
    "        r = r + 1\n",
    "    xr.append(fast_exp_alg(x, m, n))\n",
    "    for i in range(1, r + 1):\n",
    "        xr.append(fast_exp_alg(xr[i - 1], 2, n))\n",
    "    return (xr[0] != 1) and all(xi % n != n - 1 for xi in xr[0:-1])\n",
    "rabin_test_w = interact(rabin_test, x = widgets.IntText(description = \"x: \", value = 3), n = widgets.IntText(description = \"n: \", value = 2))"
   ]
  },
  {
   "cell_type": "markdown",
   "metadata": {},
   "source": [
    "#### Algoritmo per la generazione di numeri primi\n",
    "\n",
    "Questo algoritmo fa uso del test di Miller-Rabin per la generazione di un numero  primo di dimensione massima $10^{limit}$.\n",
    "L'algoritmo richiede un altro paramentro, ovvero $accuracy$, questo parametro non è altro che un intero che serve ad indicare quante volte ripetere il test di Miller-Rabin per il numero generato casualmente. "
   ]
  },
  {
   "cell_type": "code",
   "execution_count": 5,
   "metadata": {
    "collapsed": false
   },
   "outputs": [],
   "source": [
    "def generate_random_prime(minimum, limit, accuracy):\n",
    "    random_number = 0\n",
    "    condition = True\n",
    "    while condition:\n",
    "        random_number = random.randint(minimum, limit)\n",
    "        if random_number % 2 != 0:\n",
    "            test_sample = [random.randint(2, limit) for i in range(0, accuracy)]\n",
    "            condition = any(rabin_test(x, random_number) for x in test_sample)\n",
    "    return random_number\n",
    "\n",
    "prime_slider_limit_1 = widgets.IntSlider(min = 2, max = 100, step = 1, description = \"numero di cifre: \")\n",
    "prime_slider_accuracy_1 = widgets.IntSlider(min = 1, max = 50, step = 1, description = \"accuracy: \")\n",
    "prime_button_generate = widgets.Button(description = \"Genera\")\n",
    "def run_test_prime_1(b):\n",
    "    print(generate_random_prime(10**(prime_slider_limit_1.value-1),(10**(prime_slider_limit_1.value)-1) , prime_slider_accuracy_1.value))\n",
    "prime_button_generate.on_click(run_test_prime_1)\n",
    "display(prime_slider_limit_1)\n",
    "display(prime_slider_accuracy_1)\n",
    "display(prime_button_generate)"
   ]
  },
  {
   "cell_type": "markdown",
   "metadata": {},
   "source": [
    "Verifichiamo ora i tempi di esecuzione dell'algoritmo variando $limit$ e $accuracy$."
   ]
  },
  {
   "cell_type": "code",
   "execution_count": 6,
   "metadata": {
    "collapsed": false
   },
   "outputs": [],
   "source": [
    "prime_slider_limit = widgets.IntSlider(min = 2, max = 100, step = 1, description = \"numero di cifre: \")\n",
    "prime_slider_accuracy = widgets.IntSlider(min = 1, max = 50, step = 1, description = \"accuracy: \")\n",
    "prime_button_run = widgets.Button(description = \"Esegui test\")\n",
    "def run_test_prime(b):\n",
    "    %timeit -n 100 generate_random_prime(10**(prime_slider_limit.value-1), (10**(prime_slider_limit.value)-1), prime_slider_accuracy.value)\n",
    "prime_button_run.on_click(run_test_prime)\n",
    "display(prime_slider_limit)\n",
    "display(prime_slider_accuracy)\n",
    "display(prime_button_run)"
   ]
  },
  {
   "cell_type": "markdown",
   "metadata": {},
   "source": [
    "#### RSA\n",
    "\n",
    "Dopo aver implementato tutti gli algoritmi precedenti siamo pronti per implementare RSA. Sono state implementate due versioni, la prima standard, e la seconda che fa uso delle ottimizzazioni derivate dal Teorema Cinese Del Resto.\n",
    "\n",
    "Per prima cosa è stata definita una funzione che, dati due numeri primi $p$ e $q$ genera la chiave pubblica e privata. Il primo elemento della tupla che restituisce è la chiave pubblica che verrà usata per criptare il Plain Text, il secondo elemento invece è la chiave privata, che verrà usata per decriptare il Cypher Text.\n",
    "\n",
    "Durante la descrizione dell'algoritmo si seguirà l'esempio delle Note, per far sì che i risultati siano coerenti con quelli dell'esempio non possiamo generare casualmente il numero primo $d$, quindi verrà ECCEZIONALMENTE passato come input del generatore di chiave."
   ]
  },
  {
   "cell_type": "code",
   "execution_count": 7,
   "metadata": {
    "collapsed": false
   },
   "outputs": [
    {
     "data": {
      "image/png": "[encoded data removed]",
      "text/latex": [
       "$$\\left ( \\left ( 3, \\quad 33\\right ), \\quad \\left ( 7, \\quad 33\\right )\\right )$$"
      ],
      "text/plain": [
       "((3, 33), (7, 33))"
      ]
     },
     "metadata": {},
     "output_type": "display_data"
    }
   ],
   "source": [
    "def generate_rsa_key(p, q, d):\n",
    "    n = p * q\n",
    "    phi = (p - 1) * (q - 1)\n",
    "    if d == 0:\n",
    "        d = generate_random_prime(2, n-1, 5)\n",
    "        while extended_euclidean_algorithm(d, phi)[0] != 1:\n",
    "            d = generate_random_prime(2, n-1, 16)\n",
    "    e = extended_euclidean_algorithm(d, phi)\n",
    "    kp = (e[1], n)\n",
    "    km = (d, n)\n",
    "    return kp, km\n",
    "standard_keys = interactive(generate_rsa_key, \n",
    "         p = widgets.IntText(description = \"p: \", value = 3), \n",
    "         q = widgets.IntText(description = \"q: \", value = 11), \n",
    "         d = widgets.IntText(description = \"d: \", value = 7))\n",
    "display(standard_keys)"
   ]
  },
  {
   "cell_type": "markdown",
   "metadata": {},
   "source": [
    "Con le chiavi appena generate è possibile cifrare un Plain Text $m$.\n"
   ]
  },
  {
   "cell_type": "code",
   "execution_count": 8,
   "metadata": {
    "collapsed": false
   },
   "outputs": [
    {
     "data": {
      "image/png": "[encoded data removed]",
      "text/latex": [
       "$$17$$"
      ],
      "text/plain": [
       "17"
      ]
     },
     "metadata": {},
     "output_type": "display_data"
    }
   ],
   "source": [
    "def rsa_encrypt(m, kp):\n",
    "    return fast_exp_alg(m, kp[0], kp[1])\n",
    "standard_cypher_text = interactive(rsa_encrypt, m = widgets.IntText(description = \"m: \", value = 8), kp = fixed(standard_keys.result[0]))\n",
    "display(standard_cypher_text)"
   ]
  },
  {
   "cell_type": "markdown",
   "metadata": {},
   "source": [
    "Dato il Cypher Text appena generato proviamo a decriptarlo per vedere se si ottiene lo stesso $m$ passatogli in input."
   ]
  },
  {
   "cell_type": "code",
   "execution_count": 9,
   "metadata": {
    "collapsed": false
   },
   "outputs": [
    {
     "data": {
      "image/png": "[encoded data removed]",
      "text/latex": [
       "$$8$$"
      ],
      "text/plain": [
       "8"
      ]
     },
     "metadata": {},
     "output_type": "display_data"
    }
   ],
   "source": [
    "def rsa_decrypt(c, km):\n",
    "    return fast_exp_alg(c, km[0], km[1])\n",
    "\n",
    "\n",
    "standard_decrypt = interactive(rsa_decrypt, c = fixed(standard_cypher_text.result), km = fixed(standard_keys.result[1]))\n",
    "decrypt_button = widgets.Button(description = \"Decrypt\")\n",
    "def decrypt_button_function(b):\n",
    "    change_output(rsa_decrypt(standard_cypher_text.result, standard_keys.result[1]))\n",
    "decrypt_button.on_click(decrypt_button_function)\n",
    "display(standard_decrypt)\n",
    "display(decrypt_button)"
   ]
  },
  {
   "cell_type": "markdown",
   "metadata": {},
   "source": [
    "Vediamo ora le ottimizzazioni che si possono ottenere attraverso l'uso del Teorema Cinese del resto.\n",
    "\n",
    "Innanzitutto cambia il modo di generare la chiave, in quanto la chiave privata non è più una tupla, ma una quintupla.\n",
    "Come prima, per seguire l'esempio delle note è necessario passare in input alla funzione di generazione della chiave un valore prefissato per $d$."
   ]
  },
  {
   "cell_type": "code",
   "execution_count": 10,
   "metadata": {
    "collapsed": false
   },
   "outputs": [
    {
     "data": {
      "image/png": "[encoded data removed]",
      "text/latex": [
       "$$\\left ( \\left ( 3, \\quad 33\\right ), \\quad \\left ( 3, \\quad 11, \\quad 1, \\quad 7, \\quad 2\\right )\\right )$$"
      ],
      "text/plain": [
       "((3, 33), (3, 11, 1, 7, 2))"
      ]
     },
     "metadata": {},
     "output_type": "display_data"
    }
   ],
   "source": [
    "def generate_rsa_crt_key(p, q, d):\n",
    "    n = p * q\n",
    "    phi = (p - 1) * (q - 1)\n",
    "    if d == 0:\n",
    "        d = generate_random_prime(2, n - 1, 5)\n",
    "        while d != 1 and extended_euclidean_algorithm(d, phi)[0] != 1:\n",
    "            d = generate_random_prime(2, n-1, 5)\n",
    "    e = extended_euclidean_algorithm(d, phi)\n",
    "    dp = d % (p - 1)\n",
    "    if dp < 0:\n",
    "        dp = dp + p - 1\n",
    "    dq = d % (q - 1)\n",
    "    if dq < 0:\n",
    "        dq = dq + q - 1\n",
    "    q_inv = extended_euclidean_algorithm(q, p)[1]\n",
    "    kp = (e[1], n)\n",
    "    km = (p, q, dp, dq, q_inv)\n",
    "    return kp, km\n",
    "\n",
    "crt_keys = interactive(generate_rsa_crt_key, \n",
    "         p = widgets.IntText(description = \"p: \", value = 3), \n",
    "         q = widgets.IntText(description = \"q: \", value = 11), \n",
    "         d = widgets.IntText(description = \"d: \", value = 7))\n",
    "display(crt_keys)"
   ]
  },
  {
   "cell_type": "markdown",
   "metadata": {},
   "source": [
    "Visto che la chiave pubblica che si usa per criptare il messaggio ha la stessa forma della chiave pubblica che si usa per la versione senza ottimizzazioni è possibile riusare la stessa funzione per criptare il messaggio."
   ]
  },
  {
   "cell_type": "code",
   "execution_count": 20,
   "metadata": {
    "collapsed": false
   },
   "outputs": [
    {
     "data": {
      "image/png": "[encoded data removed]",
      "text/latex": [
       "$$17$$"
      ],
      "text/plain": [
       "17"
      ]
     },
     "metadata": {},
     "output_type": "display_data"
    }
   ],
   "source": [
    "crt_cypher_text = interactive(rsa_encrypt, m = widgets.IntText(description = \"m: \", value = 8), kp = fixed(crt_keys.result[0]))\n",
    "display(crt_cypher_text)"
   ]
  },
  {
   "cell_type": "markdown",
   "metadata": {},
   "source": [
    "Infatti come si può notare il risultato è lo stesso.\n",
    "\n",
    "Vediamo ora se funziona tutto eseguendo la decodifica."
   ]
  },
  {
   "cell_type": "code",
   "execution_count": 25,
   "metadata": {
    "collapsed": false
   },
   "outputs": [
    {
     "name": "stdout",
     "output_type": "stream",
     "text": [
      "8"
     ]
    }
   ],
   "source": [
    "def rsa_decrypt_crt(c, km):\n",
    "    m1 = fast_exp_alg(c, km[2], km[0])\n",
    "    m2 = fast_exp_alg(c, km[3], km[1])\n",
    "    h = km[4] * (m1 - m2) % km[0]\n",
    "    return m2 + h * km[1]\n",
    "\n",
    "crt_decrypt = interactive(rsa_decrypt_crt, c = fixed(crt_cypher_text.result), km = fixed(crt_keys.result[1]))\n",
    "decrypt_crt_button = widgets.Button(description = \"Decrypt\")\n",
    "def decrypt_crt_button_function(b):\n",
    "    change_output(rsa_decrypt_crt(crt_cypher_text.result, crt_keys.result[1]))\n",
    "decrypt_crt_button.on_click(decrypt_crt_button_function)\n",
    "display(crt_decrypt)\n",
    "display(decrypt_crt_button)"
   ]
  },
  {
   "cell_type": "markdown",
   "metadata": {
    "collapsed": true
   },
   "source": [
    "Come richiesto dal testo dell'esercizio effettuiamo un test delle prestazioni, innanzitutto fissiamo un $p$ ed un $q$ di dimensione realistica, e calcoliamo quindi il modulo RSA $n$."
   ]
  },
  {
   "cell_type": "code",
   "execution_count": 28,
   "metadata": {
    "collapsed": false
   },
   "outputs": [
    {
     "data": {
      "image/png": "[encoded data removed]",
      "text/latex": [
       "$$1037233798335776836699895392491679761491886571651633250225263930445452622869755923452705167189789218589496948096757560587326131489252568781922709452824691973473042940566563477163212384505687824474975397$$"
      ],
      "text/plain": [
       "103723379833577683669989539249167976149188657165163325022526393044545262286975\n",
       "592345270516718978921858949694809675756058732613148925256878192270945282469197\n",
       "3473042940566563477163212384505687824474975397"
      ]
     },
     "execution_count": 28,
     "metadata": {},
     "output_type": "execute_result"
    }
   ],
   "source": [
    "p_test = generate_random_prime(10**100, (10**101)-1, 16)\n",
    "q_test = generate_random_prime(10**100, (10**101)-1, 16)\n",
    "n_test = p_test*q_test\n",
    "n_test"
   ]
  },
  {
   "cell_type": "markdown",
   "metadata": {},
   "source": [
    "Generiamo quindi la chiave per RSA standard e RSA con ottimizzazioni CRT."
   ]
  },
  {
   "cell_type": "code",
   "execution_count": 30,
   "metadata": {
    "collapsed": false
   },
   "outputs": [
    {
     "data": {
      "image/png": "[encoded data removed]",
      "text/latex": [
       "$$\\left ( \\left ( 441508881097112037243945905658354508573370919220501888610385622006807415385441392844840882444891957786016945402741614004031330373418714336506239429194939829645867935994197291757819652071626855747469633, \\quad 1037233798335776836699895392491679761491886571651633250225263930445452622869755923452705167189789218589496948096757560587326131489252568781922709452824691973473042940566563477163212384505687824474975397\\right ), \\quad \\left ( 548160224782898922234722877633688642161890314780285005603062797163117142951884247945320031943413406807863648773865945864851334654143410174603614489792112344032692718804833821710817017194120527072128297, \\quad 1037233798335776836699895392491679761491886571651633250225263930445452622869755923452705167189789218589496948096757560587326131489252568781922709452824691973473042940566563477163212384505687824474975397\\right )\\right )$$"
      ],
      "text/plain": [
       "((4415088810971120372439459056583545085733709192205018886103856220068074153854\n",
       "413928448408824448919577860169454027416140040313303734187143365062394291949398\n",
       "29645867935994197291757819652071626855747469633, 10372337983357768366998953924\n",
       "916797614918865716516332502252639304454526228697559234527051671897892185894969\n",
       "480967575605873261314892525687819227094528246919734730429405665634771632123845\n",
       "05687824474975397), (548160224782898922234722877633688642161890314780285005603\n",
       "062797163117142951884247945320031943413406807863648773865945864851334654143410\n",
       "174603614489792112344032692718804833821710817017194120527072128297, 1037233798\n",
       "335776836699895392491679761491886571651633250225263930445452622869755923452705\n",
       "167189789218589496948096757560587326131489252568781922709452824691973473042940\n",
       "566563477163212384505687824474975397))"
      ]
     },
     "execution_count": 30,
     "metadata": {},
     "output_type": "execute_result"
    }
   ],
   "source": [
    "standard_test_keys = generate_rsa_key(p_test, q_test, 0)\n",
    "standard_test_keys"
   ]
  },
  {
   "cell_type": "code",
   "execution_count": 31,
   "metadata": {
    "collapsed": false
   },
   "outputs": [
    {
     "data": {
      "image/png": "[encoded data removed]",
      "text/latex": [
       "$$\\left ( \\left ( 535791775912748167864158063161180362496677079118910132355971044931715975037912982027022589651858160235793628334691349596708843454013118276284268391630430135274577702443313647443097486333658347511673233, \\quad 1037233798335776836699895392491679761491886571651633250225263930445452622869755923452705167189789218589496948096757560587326131489252568781922709452824691973473042940566563477163212384505687824474975397\\right ), \\quad \\left ( 13841774174179050383819830346842140487149686344710199823323314272704083909186821779968627363782326951, \\quad 74935032553173027251246230335182157811073000120429000491323671742168834596901025600384203896335393747, \\quad 8888446002465253264968979822998024785387513727359216532965761368113373195201346585986966407425886947, \\quad 31138064339602478665653569253335023373472277708065047497728728012042868052522816623618098401688989873, \\quad 2155214473033111097624775560253651178726410871251236356775885362737350788250440836450809704261154254\\right )\\right )$$"
      ],
      "text/plain": [
       "((5357917759127481678641580631611803624966770791189101323559710449317159750379\n",
       "129820270225896518581602357936283346913495967088434540131182762842683916304301\n",
       "35274577702443313647443097486333658347511673233, 10372337983357768366998953924\n",
       "916797614918865716516332502252639304454526228697559234527051671897892185894969\n",
       "480967575605873261314892525687819227094528246919734730429405665634771632123845\n",
       "05687824474975397), (138417741741790503838198303468421404871496863447101998233\n",
       "23314272704083909186821779968627363782326951, 74935032553173027251246230335182\n",
       "157811073000120429000491323671742168834596901025600384203896335393747, 8888446\n",
       "002465253264968979822998024785387513727359216532965761368113373195201346585986\n",
       "966407425886947, 3113806433960247866565356925333502337347227770806504749772872\n",
       "8012042868052522816623618098401688989873, 215521447303311109762477556025365117\n",
       "8726410871251236356775885362737350788250440836450809704261154254))"
      ]
     },
     "execution_count": 31,
     "metadata": {},
     "output_type": "execute_result"
    }
   ],
   "source": [
    "crt_test_keys =  generate_rsa_crt_key(p_test, q_test, 0)\n",
    "crt_test_keys"
   ]
  },
  {
   "cell_type": "markdown",
   "metadata": {
    "hideCode": false
   },
   "source": [
    "Effettuiamo ora un test delle prestazioni scegliendo 100 plain text casuali. Per prima cosa generiamo i 100 plain text, successivamente si cifrano."
   ]
  },
  {
   "cell_type": "code",
   "execution_count": 36,
   "metadata": {
    "collapsed": false
   },
   "outputs": [],
   "source": [
    "plain_text_test = [random.randint(1, 10**50) for i in range(0, 100)]\n",
    "cypher_text_test = [rsa_encrypt(m, standard_test_keys[0]) for m in plain_text_test]"
   ]
  },
  {
   "cell_type": "markdown",
   "metadata": {},
   "source": [
    "Prima di effettuare un test sui tempi di decodifica dei messaggi vediamo se l'intera procedura funziona correttamente."
   ]
  },
  {
   "cell_type": "code",
   "execution_count": 47,
   "metadata": {
    "collapsed": false
   },
   "outputs": [
    {
     "data": {
      "text/plain": [
       "True"
      ]
     },
     "execution_count": 47,
     "metadata": {},
     "output_type": "execute_result"
    }
   ],
   "source": [
    "result_vector = [rsa_decrypt(c, standard_test_keys[1]) for c in cypher_text_test]\n",
    "result_vector == plain_text_test"
   ]
  },
  {
   "cell_type": "markdown",
   "metadata": {},
   "source": [
    "Siamo ora pronti per verificare i tempi di esecuzione:"
   ]
  },
  {
   "cell_type": "code",
   "execution_count": 46,
   "metadata": {
    "collapsed": false
   },
   "outputs": [
    {
     "name": "stdout",
     "output_type": "stream",
     "text": [
      "The slowest run took 49.23 times longer than the fastest. This could mean that an intermediate result is being cached.\n",
      "10000000 loops, best of 3: 24.1 ns per loop\n"
     ]
    }
   ],
   "source": [
    "def decrypting_test():\n",
    "    for c in cypher_text_test:\n",
    "        rsa_decrypt(c, standard_test_keys[1])\n",
    "%timeit decrypting_test"
   ]
  },
  {
   "cell_type": "code",
   "execution_count": null,
   "metadata": {
    "collapsed": true
   },
   "outputs": [],
   "source": []
  },
  {
   "cell_type": "code",
   "execution_count": null,
   "metadata": {
    "collapsed": true
   },
   "outputs": [],
   "source": []
  }
 ],
 "metadata": {
  "kernelspec": {
   "display_name": "Python 3",
   "language": "python",
   "name": "python3"
  },
  "language_info": {
   "codemirror_mode": {
    "name": "ipython",
    "version": 3
   },
   "file_extension": ".py",
   "mimetype": "text/x-python",
   "name": "python",
   "nbconvert_exporter": "python",
   "pygments_lexer": "ipython3",
   "version": "3.6.0"
  },
  "widgets": {
   "state": {
    "0dbc29d8fc3f49afb6742b63fbf1e16f": {
     "views": [
      {
       "cell_index": 11
      }
     ]
    },
    "13dd4881091448e79072529295c01292": {
     "views": [
      {
       "cell_index": 11
      }
     ]
    },
    "1ab2fb1615da40bc86605960cb9cdc85": {
     "views": [
      {
       "cell_index": 19
      }
     ]
    },
    "1eefd97f4423432c825e9cf7a7257e06": {
     "views": [
      {
       "cell_index": 10
      }
     ]
    },
    "1f25886b7922431c8f5f2bcd829beb33": {
     "views": [
      {
       "cell_index": 13
      }
     ]
    },
    "1fb715ee603e4ab1af5000ff66651876": {
     "views": [
      {
       "cell_index": 11
      }
     ]
    },
    "2538b954ca854b159416e5c0a4dd3c2a": {
     "views": [
      {
       "cell_index": 11
      }
     ]
    },
    "27445e1d97a4441d9fd0810d7733ed3f": {
     "views": [
      {
       "cell_index": 21
      }
     ]
    },
    "290d8ae671f2412fa0831fc724e73983": {
     "views": [
      {
       "cell_index": 13
      }
     ]
    },
    "2e61a4cb6848420089a437ab9ea7684c": {
     "views": [
      {
       "cell_index": 25
      }
     ]
    },
    "31fd1d9cd3be40eeb1b09b2c11d6795d": {
     "views": [
      {
       "cell_index": 11
      }
     ]
    },
    "3587749c1f924b9c9dff6a338cae5a08": {
     "views": [
      {
       "cell_index": 11
      }
     ]
    },
    "3ead0403cb94473eba98fb2d47a0051e": {
     "views": [
      {
       "cell_index": 19
      }
     ]
    },
    "4490ac061a3d4fceb39393d573f2e1af": {
     "views": [
      {
       "cell_index": 19
      }
     ]
    },
    "4c6bb5375bc1432ba4bf843bb5856ecd": {
     "views": [
      {
       "cell_index": 23
      }
     ]
    },
    "4d3eb119bc014187a3b3ea45202bbcc8": {
     "views": [
      {
       "cell_index": 11
      }
     ]
    },
    "511d6c58a0d2493badafe7a15e6ff718": {
     "views": [
      {
       "cell_index": 10
      }
     ]
    },
    "5248bd67d0dc4f66bd79f558d29daee4": {
     "views": [
      {
       "cell_index": 16
      }
     ]
    },
    "5733661b8f5e45ed9d4a812249bdd195": {
     "views": [
      {
       "cell_index": 7
      }
     ]
    },
    "5c044a8455de429cb82ae68b77e3ad6f": {
     "views": [
      {
       "cell_index": 15
      }
     ]
    },
    "61beb0d564f04e268854ac2e40f219b7": {
     "views": [
      {
       "cell_index": 25
      }
     ]
    },
    "64a26f155d5347f6b8ebbdbeb2e441c5": {
     "views": [
      {
       "cell_index": 11
      }
     ]
    },
    "679440aaf7e6452bbce9525dd83035f7": {
     "views": [
      {
       "cell_index": 13
      }
     ]
    },
    "6afcb5342a5548b6bc29cec68249a916": {
     "views": [
      {
       "cell_index": 19
      }
     ]
    },
    "751282cd174646f2bf48f04f5e705ac2": {
     "views": [
      {
       "cell_index": 11
      }
     ]
    },
    "795579f70c044c30b55aa3ab8ad09bfb": {
     "views": [
      {
       "cell_index": 19
      }
     ]
    },
    "82ce785b8f0842bd965a1a95f4d9af41": {
     "views": [
      {
       "cell_index": 25
      }
     ]
    },
    "8ea7bfd1ad8e4f4f8984481e9d2a0d14": {
     "views": [
      {
       "cell_index": 11
      }
     ]
    },
    "91ef6a9e7f5847c2be6bb2c88d7690ef": {
     "views": [
      {
       "cell_index": 9
      }
     ]
    },
    "9296b9984dd0487a8ee6df5041d57fcc": {
     "views": [
      {
       "cell_index": 5
      }
     ]
    },
    "9937bf5f7fec4ff197e1fd3538c958ab": {
     "views": [
      {
       "cell_index": 17
      }
     ]
    },
    "9d41b33b6e1b4eb29b377dba8ef0ab14": {
     "views": [
      {
       "cell_index": 25
      }
     ]
    },
    "9edddc7dd0964244a0d80656a6d0cd59": {
     "views": [
      {
       "cell_index": 13
      }
     ]
    },
    "a473600b9fab470985e56e89134e8396": {
     "views": [
      {
       "cell_index": 19
      }
     ]
    },
    "aaa0948240c940608ae2e2a3c23dfa17": {
     "views": [
      {
       "cell_index": 11
      }
     ]
    },
    "ad735080f3174c72b75983606a3cfde6": {
     "views": [
      {
       "cell_index": 11
      }
     ]
    },
    "af9b192240384460b393169f8e4cde0f": {
     "views": [
      {
       "cell_index": 11
      }
     ]
    },
    "b212b628d55d492baa005575c3931812": {
     "views": [
      {
       "cell_index": 19
      }
     ]
    },
    "b2d5e212d9c64acd888b89c2833cbac0": {
     "views": [
      {
       "cell_index": 13
      }
     ]
    },
    "b8c7380284264cfa935ee0a2dd702029": {
     "views": [
      {
       "cell_index": 19
      }
     ]
    },
    "bb9714e78c0448548dfac2d63a90ba70": {
     "views": [
      {
       "cell_index": 25
      }
     ]
    },
    "c234ab19c38e4cc38ca9577b44239b41": {
     "views": [
      {
       "cell_index": 13
      }
     ]
    },
    "c28ae37ca54f422a89fd065dc8cf8a15": {
     "views": [
      {
       "cell_index": 19
      }
     ]
    },
    "c4b6ae3eb6f84ab4b31e88bf9e9b4d30": {
     "views": [
      {
       "cell_index": 25
      }
     ]
    },
    "c97ff7dad4ef4cba85dbb52608f2161f": {
     "views": [
      {
       "cell_index": 11
      }
     ]
    },
    "cbdd4a641bff4780b2086240c8f57288": {
     "views": [
      {
       "cell_index": 13
      }
     ]
    },
    "dae003ba624a4f7e8502259c23afef07": {
     "views": [
      {
       "cell_index": 13
      }
     ]
    },
    "e17fe9b75c974ba0b7584022ed7afbaa": {
     "views": [
      {
       "cell_index": 25
      }
     ]
    },
    "e4f46958b84949788e55430e717eb2af": {
     "views": [
      {
       "cell_index": 25
      }
     ]
    },
    "e88be8e2dc4741319dcd5be78c16851a": {
     "views": [
      {
       "cell_index": 25
      }
     ]
    },
    "ea180f9378b5430eb5cd8f7fc5717c03": {
     "views": [
      {
       "cell_index": 11
      }
     ]
    },
    "ebf89f548f894daaa4114091c33c4586": {
     "views": [
      {
       "cell_index": 25
      }
     ]
    },
    "ec2e5a18ffbe41a1b38243affa0697d1": {
     "views": [
      {
       "cell_index": 7
      }
     ]
    },
    "f1c98b679de841ae911812ae5b434b15": {
     "views": [
      {
       "cell_index": 25
      }
     ]
    },
    "f8cd53cc9b234d83ab4e635ab786b824": {
     "views": [
      {
       "cell_index": 13
      }
     ]
    }
   },
   "version": "1.2.0"
  }
 },
 "nbformat": 4,
 "nbformat_minor": 0
}
