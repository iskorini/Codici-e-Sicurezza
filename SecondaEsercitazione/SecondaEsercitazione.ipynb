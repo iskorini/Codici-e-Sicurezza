{
 "cells": [
  {
   "cell_type": "markdown",
   "metadata": {
    "collapsed": true
   },
   "source": [
    "# Secondo set di  Esercizi\n",
    "\n",
    "#### Federico Schipani, 6185896, [federico.schipani@stud.unifi.it](mailto:federico.schipani@stud.unifi.it)\n",
    "\n",
    "##### Prerequisiti\n",
    "Per eseguire in maniera interattiva questo notebook è necessario avviare un server Jupyter. Se si fa uso dell'interprete Anaconda questo risulta già installato, sennò è necessario installarlo con il comando:\n",
    "\n",
    "```\n",
    "pip install jupyter\n",
    "```\n",
    "Una volta completata l'installazione per avviare il server è sufficiente aprire un terminale, posizionarsi nella cartella dove è stato salvato questo notebook e dare il comando\n",
    "```\n",
    "jupyter notebook\n",
    "```\n",
    "successivamente si aprirà una finestra del browser dove è possibile selezionare il notebook da eseguire.\n",
    "\n",
    "Per questo notebook è stato fatto uso di una [libreria](https://github.com/jupyter-widgets/ipywidgets) per generare widget interattivi in HTML, per installare questa libreria è sufficiente dare i seguenti due comandi sul terminale:\n",
    "```\n",
    "pip install ipywidgets\n",
    "jupyter nbextension enable --py widgetsnbextension\n",
    "```\n",
    "Se dovessero esserci problemi con la visualizzazione dei widgets:\n",
    "```\n",
    "jupyter nbextension install --py widgetsnbextension\n",
    "jupyter nbextension enable jupyter-js-widgets/extension\n",
    "```"
   ]
  },
  {
   "cell_type": "markdown",
   "metadata": {},
   "source": [
    "### Primo esercizio di programmazione"
   ]
  },
  {
   "cell_type": "markdown",
   "metadata": {},
   "source": [
    "Il seguente esercizio richiedeva innanzitutto di implementare cinque algoritmi:\n",
    "1. Algoritmo di Euclide esteso\n",
    "2. Algoritmo di esponenziazione modulare veloce\n",
    "3. Test di Miller-Rabin\n",
    "4. Algoritmo per la generazione di numeri primi\n",
    "5. Schema RSA, con e senza ottimizzazione CRT\n",
    "\n",
    "\n",
    "Vediamo le varie implementazioni in ordine. Partiamo innanzitutto importando le librerie necessarie."
   ]
  },
  {
   "cell_type": "code",
   "execution_count": 1,
   "metadata": {
    "collapsed": true
   },
   "outputs": [],
   "source": [
    "import math\n",
    "import random\n",
    "import timeit\n",
    "from ipywidgets import widgets, interact_manual, interact, interactive, fixed\n",
    "from IPython.display import display\n",
    "import sys\n",
    "from IPython.core.display import clear_output\n",
    "def change_output(x):\n",
    "    clear_output()\n",
    "    sys.stdout.write(str(x))\n",
    "    sys.stdout.flush()"
   ]
  },
  {
   "cell_type": "markdown",
   "metadata": {},
   "source": [
    "#### Algoritmo di Euclide esteso\n",
    "Il codice che mostra l'algoritmo di Euclide Esteso è mostrato nel box sottostante. Questo algoritmo calcola l'MCD tra il numero $a$ e il numero $b$ e restituisce una tupla dove il primo elemento è l'MCD, ed il secondo è l'eventuale inverso di $a\\ mod\\ b$.\n",
    "Questo inverso esiste solo se l'MCD è uguale a $1$."
   ]
  },
  {
   "cell_type": "code",
   "execution_count": 2,
   "metadata": {
    "collapsed": false
   },
   "outputs": [
    {
     "data": {
      "text/plain": [
       "(0, 0)"
      ]
     },
     "metadata": {},
     "output_type": "display_data"
    }
   ],
   "source": [
    "def extended_euclidean_algorithm(a, b):\n",
    "    rm = b\n",
    "    rm1 = a\n",
    "    qm1 = 1\n",
    "    t = 0\n",
    "    while rm1 != 0:\n",
    "        q = math.floor(rm / rm1)\n",
    "        temp = t\n",
    "        t = qm1\n",
    "        qm1 = temp - q * qm1\n",
    "        temp = rm\n",
    "        rm = rm1\n",
    "        rm1 = temp - q * rm1\n",
    "    if t < 0:\n",
    "        t = t + b\n",
    "    if rm>1:\n",
    "        t = \"ND\"\n",
    "    return rm, t\n",
    "euclidean_w = interact(extended_euclidean_algorithm, a = widgets.IntText(description = \"a: \"), b = widgets.IntText(description = \"b: \"))"
   ]
  },
  {
   "cell_type": "markdown",
   "metadata": {},
   "source": [
    "#### Algoritmo di esponenziazione modulare veloce\n",
    "\n",
    "Questo algoritmo permette di calcolare in maniera efficiente e veloce il risultato di $a^{n}\\ mod\\ m$."
   ]
  },
  {
   "cell_type": "code",
   "execution_count": 24,
   "metadata": {
    "collapsed": false
   },
   "outputs": [
    {
     "data": {
      "text/plain": [
       "2"
      ]
     },
     "metadata": {},
     "output_type": "display_data"
    }
   ],
   "source": [
    "def fast_exp_alg(a, n, m):\n",
    "    d, c = 1, 0\n",
    "    bin_n = \"{0:b}\".format(n)\n",
    "    for i in bin_n:\n",
    "        d = (d * d) % m\n",
    "        if int(i) == 1:\n",
    "            d = (d * a) % m\n",
    "    return d\n",
    "aw = widgets.IntText(description  = \"a: \", value = 3)\n",
    "nw = widgets.IntText(description = \"n: \", value = 3)\n",
    "mw = widgets.IntText(description = \"m: \", value = 3)\n",
    "to_display = interactive(fast_exp_alg, a = aw, n = nw, m = mw)\n",
    "display(to_display)"
   ]
  },
  {
   "cell_type": "markdown",
   "metadata": {},
   "source": [
    "#### Test di Miller-Rabin\n",
    "\n",
    "Il test di Miller-Rabin serve per verificare se un numero è composto. Questo test richiede due argomenti $x$ ed $n$. Se il valore di ritorno è $true$ allora siamo certi che il numero $x$ sia composto, e diciamo che $n$ è testimone di Rabin per $x$.\n",
    "Se invece il test ritorna il valore $false$ non possiamo dire con certezza che il numero non sia composto, quindi occorre rieseguire un numero di volte abbastanza elevato per ridurre la probabilità di errore. La probabilità che il test restituisca $false$ con $x$ composto è di $\\frac{1}{4}$, quindi se si esegue il test $m$ volte con $n$ diversi la probabilità si riduce a $\\frac{1}{4^{m}} = 4^{-m}$."
   ]
  },
  {
   "cell_type": "code",
   "execution_count": 4,
   "metadata": {
    "collapsed": false
   },
   "outputs": [
    {
     "data": {
      "text/plain": [
       "False"
      ]
     },
     "metadata": {},
     "output_type": "display_data"
    }
   ],
   "source": [
    "def rabin_test(x, n):\n",
    "    m, r, xr = n - 1, 0, []\n",
    "    while m % 2 == 0:\n",
    "        m = m // 2\n",
    "        r = r + 1\n",
    "    xr.append(fast_exp_alg(x, m, n))\n",
    "    for i in range(1, r + 1):\n",
    "        xr.append(fast_exp_alg(xr[i - 1], 2, n))\n",
    "    return (xr[0] != 1) and all(xi % n != n - 1 for xi in xr[0:-1])\n",
    "rabin_test_w = interact(rabin_test, x = widgets.IntText(description = \"x: \", value = 3), n = widgets.IntText(description = \"n: \", value = 2))"
   ]
  },
  {
   "cell_type": "markdown",
   "metadata": {},
   "source": [
    "#### Algoritmo per la generazione di numeri primi\n",
    "\n",
    "Questo algoritmo fa uso del test di Miller-Rabin per la generazione di un numero  primo di dimensione massima $10^{limit}$.\n",
    "L'algoritmo richiede un altro paramentro, ovvero $accuracy$, questo parametro non è altro che un intero che serve ad indicare quante volte ripetere il test di Miller-Rabin per il numero generato casualmente. "
   ]
  },
  {
   "cell_type": "code",
   "execution_count": 5,
   "metadata": {
    "collapsed": false
   },
   "outputs": [],
   "source": [
    "def generate_random_prime(minimum, limit, accuracy):\n",
    "    random_number = 0\n",
    "    condition = True\n",
    "    while condition:\n",
    "        random_number = random.randint(minimum, limit)\n",
    "        if random_number % 2 != 0:\n",
    "            test_sample = [random.randint(2, limit) for i in range(0, accuracy)]\n",
    "            condition = any(rabin_test(x, random_number) for x in test_sample)\n",
    "    return random_number\n",
    "\n",
    "prime_slider_limit_1 = widgets.IntSlider(min = 2, max = 100, step = 1, description = \"numero di cifre: \")\n",
    "prime_slider_accuracy_1 = widgets.IntSlider(min = 1, max = 50, step = 1, description = \"accuracy: \")\n",
    "prime_button_generate = widgets.Button(description = \"Genera\")\n",
    "def run_test_prime_1(b):\n",
    "    print(generate_random_prime(10**(prime_slider_limit_1.value-1),(10**(prime_slider_limit_1.value)-1) , prime_slider_accuracy_1.value))\n",
    "prime_button_generate.on_click(run_test_prime_1)\n",
    "display(prime_slider_limit_1)\n",
    "display(prime_slider_accuracy_1)\n",
    "display(prime_button_generate)"
   ]
  },
  {
   "cell_type": "markdown",
   "metadata": {},
   "source": [
    "Verifichiamo ora i tempi di esecuzione dell'algoritmo variando $limit$ e $accuracy$."
   ]
  },
  {
   "cell_type": "code",
   "execution_count": 6,
   "metadata": {
    "collapsed": false
   },
   "outputs": [],
   "source": [
    "prime_slider_limit = widgets.IntSlider(min = 2, max = 100, step = 1, description = \"numero di cifre: \")\n",
    "prime_slider_accuracy = widgets.IntSlider(min = 1, max = 50, step = 1, description = \"accuracy: \")\n",
    "prime_button_run = widgets.Button(description = \"Esegui test\")\n",
    "def run_test_prime(b):\n",
    "    %timeit -n 100 generate_random_prime(10**(prime_slider_limit.value-1), (10**(prime_slider_limit.value)-1), prime_slider_accuracy.value)\n",
    "prime_button_run.on_click(run_test_prime)\n",
    "display(prime_slider_limit)\n",
    "display(prime_slider_accuracy)\n",
    "display(prime_button_run)"
   ]
  },
  {
   "cell_type": "markdown",
   "metadata": {},
   "source": [
    "#### RSA\n",
    "\n",
    "Dopo aver implementato tutti gli algoritmi precedenti siamo pronti per implementare RSA. Sono state implementate due versioni, la prima standard, e la seconda che fa uso delle ottimizzazioni derivate dal Teorema Cinese Del Resto.\n",
    "\n",
    "Per prima cosa è stata definita una funzione che, dati due numeri primi $p$ e $q$ genera la chiave pubblica e privata. Il primo elemento della tupla che restituisce è la chiave pubblica che verrà usata per criptare il Plain Text, il secondo elemento invece è la chiave privata, che verrà usata per decriptare il Cypher Text.\n",
    "\n",
    "Durante la descrizione dell'algoritmo si seguirà l'esempio delle Note, per far sì che i risultati siano coerenti con quelli dell'esempio non possiamo generare casualmente il numero primo $d$, quindi verrà ECCEZIONALMENTE passato come input del generatore di chiave."
   ]
  },
  {
   "cell_type": "code",
   "execution_count": 7,
   "metadata": {
    "collapsed": false
   },
   "outputs": [
    {
     "data": {
      "text/plain": [
       "((3, 33), (7, 33))"
      ]
     },
     "metadata": {},
     "output_type": "display_data"
    }
   ],
   "source": [
    "def generate_rsa_key(p, q, d):\n",
    "    n = p * q\n",
    "    phi = (p - 1) * (q - 1)\n",
    "    if d == 0:\n",
    "        d = generate_random_prime(2, n-1, 5)\n",
    "        while extended_euclidean_algorithm(d, phi)[0] != 1:\n",
    "            d = generate_random_prime(2, n-1, 16)\n",
    "    e = extended_euclidean_algorithm(d, phi)\n",
    "    kp = (e[1], n)\n",
    "    km = (d, n)\n",
    "    return kp, km\n",
    "standard_keys = interactive(generate_rsa_key, \n",
    "         p = widgets.IntText(description = \"p: \", value = 3), \n",
    "         q = widgets.IntText(description = \"q: \", value = 11), \n",
    "         d = widgets.IntText(description = \"d: \", value = 7))\n",
    "display(standard_keys)"
   ]
  },
  {
   "cell_type": "markdown",
   "metadata": {},
   "source": [
    "Con le chiavi appena generate è possibile cifrare un Plain Text $m$.\n"
   ]
  },
  {
   "cell_type": "code",
   "execution_count": 8,
   "metadata": {
    "collapsed": false
   },
   "outputs": [
    {
     "data": {
      "text/plain": [
       "17"
      ]
     },
     "metadata": {},
     "output_type": "display_data"
    }
   ],
   "source": [
    "def rsa_encrypt(m, kp):\n",
    "    return fast_exp_alg(m, kp[0], kp[1])\n",
    "standard_cypher_text = interactive(rsa_encrypt, m = widgets.IntText(description = \"m: \", value = 8), kp = fixed(standard_keys.result[0]))\n",
    "display(standard_cypher_text)"
   ]
  },
  {
   "cell_type": "markdown",
   "metadata": {},
   "source": [
    "Dato il Cypher Text appena generato proviamo a decriptarlo per vedere se si ottiene lo stesso $m$ passatogli in input."
   ]
  },
  {
   "cell_type": "code",
   "execution_count": 9,
   "metadata": {
    "collapsed": false
   },
   "outputs": [
    {
     "data": {
      "text/plain": [
       "8"
      ]
     },
     "metadata": {},
     "output_type": "display_data"
    }
   ],
   "source": [
    "def rsa_decrypt(c, km):\n",
    "    return fast_exp_alg(c, km[0], km[1])\n",
    "\n",
    "\n",
    "standard_decrypt = interactive(rsa_decrypt, c = fixed(standard_cypher_text.result), km = fixed(standard_keys.result[1]))\n",
    "decrypt_button = widgets.Button(description = \"Decrypt\")\n",
    "def decrypt_button_function(b):\n",
    "    change_output(rsa_decrypt(standard_cypher_text.result, standard_keys.result[1]))\n",
    "decrypt_button.on_click(decrypt_button_function)\n",
    "display(standard_decrypt)\n",
    "display(decrypt_button)"
   ]
  },
  {
   "cell_type": "markdown",
   "metadata": {},
   "source": [
    "Vediamo ora le ottimizzazioni che si possono ottenere attraverso l'uso del Teorema Cinese del resto.\n",
    "\n",
    "Innanzitutto cambia il modo di generare la chiave, in quanto la chiave privata non è più una tupla, ma una quintupla.\n",
    "Come prima, per seguire l'esempio delle note è necessario passare in input alla funzione di generazione della chiave un valore prefissato per $d$."
   ]
  },
  {
   "cell_type": "code",
   "execution_count": 10,
   "metadata": {
    "collapsed": false
   },
   "outputs": [
    {
     "data": {
      "text/plain": [
       "((3, 33), (3, 11, 7, 12, 22))"
      ]
     },
     "metadata": {},
     "output_type": "display_data"
    }
   ],
   "source": [
    "def generate_rsa_crt_key(p, q, d):\n",
    "    n = p * q\n",
    "    phi = (p - 1) * (q - 1)\n",
    "    if d == 0:\n",
    "        d = generate_random_prime(2, n - 1, 5)\n",
    "        while d != 1 and extended_euclidean_algorithm(d, phi)[0] != 1:\n",
    "            d = generate_random_prime(2, n-1, 5)\n",
    "    q_inv = extended_euclidean_algorithm(q, p)[1]\n",
    "    p_inv = extended_euclidean_algorithm(p, q)[1]\n",
    "    e = extended_euclidean_algorithm(d, phi)\n",
    "    kp = (e[1], n)\n",
    "    km = (p, q, d, p_inv*p, q_inv*q)\n",
    "    return kp, km\n",
    "\n",
    "crt_keys = interactive(generate_rsa_crt_key, \n",
    "         p = widgets.IntText(description = \"p: \", value = 3), \n",
    "         q = widgets.IntText(description = \"q: \", value = 11), \n",
    "         d = widgets.IntText(description = \"d: \", value = 7))\n",
    "display(crt_keys)"
   ]
  },
  {
   "cell_type": "markdown",
   "metadata": {},
   "source": [
    "Visto che la chiave pubblica che si usa per criptare il messaggio ha la stessa forma della chiave pubblica che si usa per la versione senza ottimizzazioni è possibile riusare la stessa funzione per criptare il messaggio."
   ]
  },
  {
   "cell_type": "code",
   "execution_count": 11,
   "metadata": {
    "collapsed": false
   },
   "outputs": [
    {
     "data": {
      "text/plain": [
       "17"
      ]
     },
     "metadata": {},
     "output_type": "display_data"
    }
   ],
   "source": [
    "crt_cypher_text = interactive(rsa_encrypt, m = widgets.IntText(description = \"m: \", value = 8), kp = fixed(crt_keys.result[0]))\n",
    "display(crt_cypher_text)"
   ]
  },
  {
   "cell_type": "markdown",
   "metadata": {},
   "source": [
    "Infatti come si può notare il risultato è lo stesso.\n",
    "\n",
    "Vediamo ora se funziona tutto eseguendo la decodifica."
   ]
  },
  {
   "cell_type": "code",
   "execution_count": 12,
   "metadata": {
    "collapsed": false
   },
   "outputs": [
    {
     "data": {
      "text/plain": [
       "8"
      ]
     },
     "metadata": {},
     "output_type": "display_data"
    }
   ],
   "source": [
    "def rsa_decrypt_crt(c, km):\n",
    "    mp = fast_exp_alg(c, km[2], km[0])\n",
    "    mq = fast_exp_alg(c, km[2], km[1])\n",
    "    return ((mp * km[4]) + (mq * km[3]))%(km[0]*km[1])\n",
    "\n",
    "\n",
    "crt_decrypt = interactive(rsa_decrypt_crt, c = fixed(crt_cypher_text.result), km = fixed(crt_keys.result[1]))\n",
    "decrypt_crt_button = widgets.Button(description = \"Decrypt\")\n",
    "def decrypt_crt_button_function(b):\n",
    "    change_output(rsa_decrypt_crt(crt_cypher_text.result, crt_keys.result[1]))\n",
    "decrypt_crt_button.on_click(decrypt_crt_button_function)\n",
    "display(crt_decrypt)\n",
    "display(decrypt_crt_button)"
   ]
  },
  {
   "cell_type": "markdown",
   "metadata": {
    "collapsed": true
   },
   "source": [
    "Come richiesto dal testo dell'esercizio effettuiamo un test delle prestazioni, innanzitutto fissiamo un $p$ ed un $q$ di dimensione realistica, e calcoliamo quindi il modulo RSA $n$.\n",
    "Ovviamente devo fissare anche il valore $d$ in maniera tale da generare lo stesso set di chiavi per la versione CRT e standard."
   ]
  },
  {
   "cell_type": "code",
   "execution_count": 13,
   "metadata": {
    "collapsed": true
   },
   "outputs": [],
   "source": [
    "dim = 300\n",
    "def generate_test_case(dimension):\n",
    "    big_p_test = generate_random_prime(10**dimension, (10**(dimension+1))-1, 16)\n",
    "    big_q_test = generate_random_prime(10**dimension, (10**(dimension+1))-1, 16)\n",
    "    big_phi_test = (big_p_test - 1) * (big_q_test - 1)\n",
    "    big_n_test = big_p_test*big_q_test\n",
    "    big_d_test = generate_random_prime(2, big_n_test - 1, 16)\n",
    "    while big_d_test != 1 and extended_euclidean_algorithm(big_d_test, big_phi_test)[0] != 1:\n",
    "        big_d_test = generate_random_prime(2, big_n_test - 1, 16)\n",
    "    return big_p_test, big_q_test, big_d_test\n",
    "\n",
    "p_test, q_test, d_test = generate_test_case(dim)"
   ]
  },
  {
   "cell_type": "markdown",
   "metadata": {},
   "source": [
    "Generiamo quindi la chiave per RSA standard e RSA con ottimizzazioni CRT."
   ]
  },
  {
   "cell_type": "code",
   "execution_count": 14,
   "metadata": {
    "collapsed": false
   },
   "outputs": [
    {
     "data": {
      "text/plain": [
       "((6610036275749217236689302308015543191070775355372271940702108919412930284700719259734382353435525292563469372126863842970768918575272074121939773432667150663660094624423840183319999074651744270958650099438442706874157393101614947069338986654324768934699990905622408733763279286067980490059361287469532805866123581358907060655985296548580357062678009609409979173554398076375783663063071931841777536152517662962524901682416119714059894745465607562152492500530111531431138537869857947857427812402675225909969097196568497493337516948838174089537753074500982792522229705824349643710777302358017762236017103,\n",
       "  11415976338523462935468906153226378515768215692624858713231379963670491395746263513225095182171520560324125871186519859209992967148438902316476328884469154595746979601816533099565156039102429832762276806442295254106993170942182393150370173790654491513278898260137149163256169330501521781372090194716869277728779659312960995648696992499127590736754336240978114508328645962225725108585721994625408033811201875060054987784376365636364750182584653728688301256723841967160410081148235288245341927983884098849356125470400614516701623821109837944270658629327366076011632552898172577677796690434357102653777357),\n",
       " (2449050808130056082567370215499196265941577432578228694164345567475019429005326409768224561869118732289901122948822561286848028049936148785193140914498197121678327056432490468382313783403508626509872370131325051888861898372225783310795020450713910496914698622389979758813500991450526692600925103976665158955069660393140234897777911495755607591230679955123964574577349042758776224768632988189058430260112677799660686306502148344941261563730882629847570113908656826129149067356407389035318517426148000560441096141585195991826537448224943514232918204461828728827350522606777541539911395383200649940220683,\n",
       "  11415976338523462935468906153226378515768215692624858713231379963670491395746263513225095182171520560324125871186519859209992967148438902316476328884469154595746979601816533099565156039102429832762276806442295254106993170942182393150370173790654491513278898260137149163256169330501521781372090194716869277728779659312960995648696992499127590736754336240978114508328645962225725108585721994625408033811201875060054987784376365636364750182584653728688301256723841967160410081148235288245341927983884098849356125470400614516701623821109837944270658629327366076011632552898172577677796690434357102653777357))"
      ]
     },
     "execution_count": 14,
     "metadata": {},
     "output_type": "execute_result"
    }
   ],
   "source": [
    "standard_test_keys = generate_rsa_key(p_test, q_test, d_test)\n",
    "standard_test_keys"
   ]
  },
  {
   "cell_type": "code",
   "execution_count": 15,
   "metadata": {
    "collapsed": false
   },
   "outputs": [
    {
     "data": {
      "text/plain": [
       "((6610036275749217236689302308015543191070775355372271940702108919412930284700719259734382353435525292563469372126863842970768918575272074121939773432667150663660094624423840183319999074651744270958650099438442706874157393101614947069338986654324768934699990905622408733763279286067980490059361287469532805866123581358907060655985296548580357062678009609409979173554398076375783663063071931841777536152517662962524901682416119714059894745465607562152492500530111531431138537869857947857427812402675225909969097196568497493337516948838174089537753074500982792522229705824349643710777302358017762236017103,\n",
       "  11415976338523462935468906153226378515768215692624858713231379963670491395746263513225095182171520560324125871186519859209992967148438902316476328884469154595746979601816533099565156039102429832762276806442295254106993170942182393150370173790654491513278898260137149163256169330501521781372090194716869277728779659312960995648696992499127590736754336240978114508328645962225725108585721994625408033811201875060054987784376365636364750182584653728688301256723841967160410081148235288245341927983884098849356125470400614516701623821109837944270658629327366076011632552898172577677796690434357102653777357),\n",
       " (9432796171459872360677845222835999918007518515877253376608082870740538964432804827334837701888588236367142558698377407695351020106593486543560875811412167112410617625262640033483605516938513868403484907171827573868851560879998093850043211239739632721681888041074850260238770450036065074948140736626583,\n",
       "  1210243084978763248947307742522888320448623978216549536200921713200733540649207670790317417550932649001564598261230213869302032065603781668268261582692741763420256173016248602226611137918527608173104764563258873009271557052901947079898917300598263264043306501105764205206716972699043420960186973893179,\n",
       "  2449050808130056082567370215499196265941577432578228694164345567475019429005326409768224561869118732289901122948822561286848028049936148785193140914498197121678327056432490468382313783403508626509872370131325051888861898372225783310795020450713910496914698622389979758813500991450526692600925103976665158955069660393140234897777911495755607591230679955123964574577349042758776224768632988189058430260112677799660686306502148344941261563730882629847570113908656826129149067356407389035318517426148000560441096141585195991826537448224943514232918204461828728827350522606777541539911395383200649940220683,\n",
       "  11239272573594298891434652550041711077438851578015196121605296993023596662895500765675909898499628423949460235918329590910024430945873810370241578044366852263965042922659559594453594647887580238980018548611705848360299754990982771605079939042838864440231712912839613153815787862881752421787268659504664790936718679214326306493210888339905540772469530747787019971717796134594991979173001679071364566482937827406823750513520930398569769244007494487435760832641910313875884749035610826276791696076595209846775267940651281287216280049680048250548885637193314220794532016154998016074105618398082208241013472,\n",
       "  176703764929164044034253603184667438329364114609662591626082970646894732850762747549185283671892136374665635268190268299968536202565091946234750840102302331781936679156973505111561391214849593782258257830589405746693415951199621545290234747815627073047185347297536009440381467619769359584821535212204486792060980098634689155486104159222049964284805493191094536610849827630733129412720315554043467328264047653231237270855435237794980938577159241252540424081931653284525332112624461968550231907288889002580857529749333229485343771429789693721772992134051855217100536743174561603691072036274894412763886))"
      ]
     },
     "execution_count": 15,
     "metadata": {},
     "output_type": "execute_result"
    }
   ],
   "source": [
    "crt_test_keys =  generate_rsa_crt_key(p_test, q_test, d_test)\n",
    "crt_test_keys"
   ]
  },
  {
   "cell_type": "markdown",
   "metadata": {
    "hideCode": false
   },
   "source": [
    "Effettuiamo ora un test delle prestazioni scegliendo 100 plain text casuali. Per prima cosa generiamo i 100 plain text, successivamente si cifrano."
   ]
  },
  {
   "cell_type": "code",
   "execution_count": 16,
   "metadata": {
    "collapsed": true
   },
   "outputs": [],
   "source": [
    "plain_text_test = [random.randint(1, 10**dim) for i in range(0, 100)]\n",
    "cypher_text_test = [rsa_encrypt(m, standard_test_keys[0]) for m in plain_text_test]"
   ]
  },
  {
   "cell_type": "markdown",
   "metadata": {},
   "source": [
    "Prima di effettuare un test sui tempi di decodifica dei messaggi vediamo se l'intera procedura funziona correttamente."
   ]
  },
  {
   "cell_type": "code",
   "execution_count": 17,
   "metadata": {
    "collapsed": false
   },
   "outputs": [
    {
     "data": {
      "text/plain": [
       "True"
      ]
     },
     "execution_count": 17,
     "metadata": {},
     "output_type": "execute_result"
    }
   ],
   "source": [
    "result_vector = [rsa_decrypt(c, standard_test_keys[1]) for c in cypher_text_test]\n",
    "result_vector_2 = [rsa_decrypt_crt(c, crt_test_keys[1]) for c in cypher_text_test]\n",
    "result_vector == plain_text_test == result_vector_2"
   ]
  },
  {
   "cell_type": "markdown",
   "metadata": {},
   "source": [
    "Siamo ora pronti per verificare i tempi di esecuzione:"
   ]
  },
  {
   "cell_type": "code",
   "execution_count": 18,
   "metadata": {
    "collapsed": false
   },
   "outputs": [
    {
     "name": "stdout",
     "output_type": "stream",
     "text": [
      "1 loop, best of 3: 3.57 s per loop\n"
     ]
    }
   ],
   "source": [
    "def decrypting_test(cypher_text, keys):\n",
    "    for c in cypher_text:\n",
    "        rsa_decrypt(c, keys)\n",
    "        \n",
    "standard_time = %timeit -o decrypting_test(cypher_text_test, standard_test_keys[1])"
   ]
  },
  {
   "cell_type": "markdown",
   "metadata": {},
   "source": [
    "Con gli stessi Cypher Text proviamo ora la versione ottimizzata che fa uso del Teorema Cinese del Resto."
   ]
  },
  {
   "cell_type": "code",
   "execution_count": 19,
   "metadata": {
    "collapsed": false
   },
   "outputs": [
    {
     "name": "stdout",
     "output_type": "stream",
     "text": [
      "1 loop, best of 3: 2.79 s per loop\n"
     ]
    }
   ],
   "source": [
    "def decrypting_test_crt(cypher_text, keys):\n",
    "    for c in cypher_text:\n",
    "        rsa_decrypt_crt(c, keys)\n",
    "        \n",
    "crt_time = %timeit -o decrypting_test_crt(cypher_text_test, crt_test_keys[1])"
   ]
  },
  {
   "cell_type": "markdown",
   "metadata": {
    "collapsed": true
   },
   "source": [
    "Facendo una rapida operazione si può calcolare lo speedup in percentuale."
   ]
  },
  {
   "cell_type": "code",
   "execution_count": 23,
   "metadata": {
    "collapsed": false
   },
   "outputs": [
    {
     "data": {
      "text/plain": [
       "27.660632138013398"
      ]
     },
     "execution_count": 23,
     "metadata": {},
     "output_type": "execute_result"
    }
   ],
   "source": [
    "def calc_speedup(time1, time2):\n",
    "    return ((time1 / time2)-1)*100\n",
    "#calc_speedup(standard_time.average, crt_time.average) su Windows questa riga di codice non funziona (???)\n",
    "calc_speedup(standard_time.best, crt_time.best)"
   ]
  },
  {
   "cell_type": "markdown",
   "metadata": {},
   "source": [
    "Come si può notare si ottiene speedup."
   ]
  }
 ],
 "metadata": {
  "kernelspec": {
   "display_name": "Python 3",
   "language": "python",
   "name": "python3"
  },
  "language_info": {
   "codemirror_mode": {
    "name": "ipython",
    "version": 3
   },
   "file_extension": ".py",
   "mimetype": "text/x-python",
   "name": "python",
   "nbconvert_exporter": "python",
   "pygments_lexer": "ipython3",
   "version": "3.6.0"
  },
  "widgets": {
   "state": {
    "0aa736118a274b7f9f17f2f0f11dc808": {
     "views": [
      {
       "cell_index": 13
      }
     ]
    },
    "0f18432033ec4c4eaadb0ab6bd6899b9": {
     "views": [
      {
       "cell_index": 9
      }
     ]
    },
    "10b3749ca3b34a7f9896bff1fdf584e1": {
     "views": [
      {
       "cell_index": 23
      }
     ]
    },
    "13b32ee0a44d4dd5a057b4c24e9f65c8": {
     "views": [
      {
       "cell_index": 11
      }
     ]
    },
    "1c28903693dc4f06878f77fbf44973e9": {
     "views": [
      {
       "cell_index": 25
      }
     ]
    },
    "31fe6faf91f546d8a8e2fd38d6e758ba": {
     "views": [
      {
       "cell_index": 21
      }
     ]
    },
    "5a7c1ccb4f364d66abd58205994276c6": {
     "views": [
      {
       "cell_index": 25
      }
     ]
    },
    "6026a8aff0de4633962601a9f70d0661": {
     "views": [
      {
       "cell_index": 15
      }
     ]
    },
    "73164ec1def34ddca386871e6d3d3355": {
     "views": [
      {
       "cell_index": 13
      }
     ]
    },
    "7dd344c6aa374ce8a7a05a41b6eaabd1": {
     "views": [
      {
       "cell_index": 7
      }
     ]
    },
    "881c29c4db6a4b5db7931a290c71b842": {
     "views": [
      {
       "cell_index": 19
      }
     ]
    },
    "899d80cb68da4e48b9eddfe9182afe6d": {
     "views": [
      {
       "cell_index": 19
      }
     ]
    },
    "95a38404e6cd40f08249b3674b00a525": {
     "views": [
      {
       "cell_index": 11
      }
     ]
    },
    "aa6ce50de9124545a2c55941e8dbd8f1": {
     "views": [
      {
       "cell_index": 17
      }
     ]
    },
    "b7d08ab95c8c4b9d9039dd32596f8016": {
     "views": [
      {
       "cell_index": 11
      }
     ]
    },
    "cd77e450df544ffa934d9e28a0d22af4": {
     "views": [
      {
       "cell_index": 13
      }
     ]
    },
    "d55ee37913344067b72d0680ded63a92": {
     "views": [
      {
       "cell_index": 5
      }
     ]
    }
   },
   "version": "1.2.0"
  }
 },
 "nbformat": 4,
 "nbformat_minor": 1
}
