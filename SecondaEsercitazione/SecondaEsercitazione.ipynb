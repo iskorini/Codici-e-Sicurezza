{
 "cells": [
  {
   "cell_type": "markdown",
   "metadata": {
    "collapsed": true
   },
   "source": [
    "# Secondo set di  Esercizi\n",
    "\n",
    "#### Federico Schipani, 6185896, [federico.schipani@stud.unifi.it](mailto:federico.schipani@stud.unifi.it)\n",
    "\n",
    "##### Prerequisiti\n",
    "Per eseguire in maniera interattiva questo notebook è necessario avviare un server Jupyter. Se si fa uso dell'interprete Anaconda questo risulta già installato, sennò è necessario installarlo con il comando:\n",
    "\n",
    "```\n",
    "pip install jupyter\n",
    "```\n",
    "Una volta completata l'installazione per avviare il server è sufficiente aprire un terminale, posizionarsi nella cartella dove è stato salvato questo notebook e dare il comando\n",
    "```\n",
    "jupyter notebook\n",
    "```\n",
    "successivamente si aprirà una finestra del browser dove è possibile selezionare il notebook da eseguire.\n",
    "\n",
    "Per questo notebook è stato fatto uso di una [libreria](https://github.com/jupyter-widgets/ipywidgets) per generare widget interattivi in HTML, per installare questa libreria è sufficiente dare i seguenti due comandi sul terminale:\n",
    "```\n",
    "pip install ipywidgets\n",
    "jupyter nbextension enable --py widgetsnbextension\n",
    "```"
   ]
  },
  {
   "cell_type": "markdown",
   "metadata": {},
   "source": [
    "### Primo esercizio di programmazione"
   ]
  },
  {
   "cell_type": "markdown",
   "metadata": {},
   "source": [
    "Il seguente esercizio richiedeva innanzitutto di implementare cinque algoritmi:\n",
    "1. Algoritmo di Euclide esteso\n",
    "2. Algoritmo di esponenziazione modulare veloce\n",
    "3. Test di Miller-Rabin\n",
    "4. Algoritmo per la generazione di numeri primi\n",
    "5. Schema RSA, con e senza ottimizzazione CRT\n",
    "\n",
    "\n",
    "Vediamo le varie implementazioni in ordine. Partiamo innanzitutto importando le librerie necessarie."
   ]
  },
  {
   "cell_type": "code",
   "execution_count": 1,
   "metadata": {},
   "outputs": [],
   "source": [
    "import math\n",
    "import random\n",
    "import timeit\n",
    "from ipywidgets import widgets, interact_manual, interact, interactive, fixed\n",
    "from IPython.display import display\n",
    "import sys\n",
    "from IPython.core.display import clear_output\n",
    "def change_output(x):\n",
    "    clear_output()\n",
    "    sys.stdout.write(str(x))\n",
    "    sys.stdout.flush()"
   ]
  },
  {
   "cell_type": "markdown",
   "metadata": {},
   "source": [
    "#### Algoritmo di Euclide esteso\n",
    "Il codice che mostra l'algoritmo di Euclide Esteso è mostrato nel box sottostante. Questo algoritmo calcola l'MCD tra il numero $a$ e il numero $b$ e restituisce una tupla dove il primo elemento è l'MCD, ed il secondo è l'eventuale inverso di $a\\ mod\\ b$.\n",
    "Questo inverso esiste solo se l'MCD è uguale a $1$."
   ]
  },
  {
   "cell_type": "code",
   "execution_count": 2,
   "metadata": {},
   "outputs": [
    {
     "data": {
      "application/vnd.jupyter.widget-view+json": {
       "model_id": "a9dbed39454f489d917b989635f383a2"
      }
     },
     "metadata": {},
     "output_type": "display_data"
    }
   ],
   "source": [
    "def extended_euclidean_algorithm(a, b):\n",
    "    rm = b\n",
    "    rm1 = a\n",
    "    qm1 = 1\n",
    "    t = 0\n",
    "    while rm1 != 0:\n",
    "        q = math.floor(rm / rm1)\n",
    "        temp = t\n",
    "        t = qm1\n",
    "        qm1 = temp - q * qm1\n",
    "        temp = rm\n",
    "        rm = rm1\n",
    "        rm1 = temp - q * rm1\n",
    "    if t < 0:\n",
    "        t = t + b\n",
    "    if rm>1:\n",
    "        t = \"ND\"\n",
    "    return rm, t\n",
    "euclidean_w = interact(extended_euclidean_algorithm, a = widgets.IntText(description = \"a: \"), b = widgets.IntText(description = \"b: \"))"
   ]
  },
  {
   "cell_type": "markdown",
   "metadata": {},
   "source": [
    "#### Algoritmo di esponenziazione modulare veloce\n",
    "\n",
    "Questo algoritmo permette di calcolare in maniera efficiente e veloce il risultato di $a^{n}\\ mod\\ m$."
   ]
  },
  {
   "cell_type": "code",
   "execution_count": 3,
   "metadata": {},
   "outputs": [
    {
     "data": {
      "application/vnd.jupyter.widget-view+json": {
       "model_id": "c4e86dde60464b3aabefe9f001f1c95f"
      }
     },
     "metadata": {},
     "output_type": "display_data"
    },
    {
     "data": {
      "text/plain": [
       "<function __main__.fast_exp_alg>"
      ]
     },
     "execution_count": 3,
     "metadata": {},
     "output_type": "execute_result"
    }
   ],
   "source": [
    "def fast_exp_alg(a, n, m):\n",
    "    d, c = 1, 0\n",
    "    bin_n = \"{0:b}\".format(n)\n",
    "    for i in bin_n:\n",
    "        d = (d * d) % m\n",
    "        if int(i) == 1:\n",
    "            d = (d * a) % m\n",
    "    return d\n",
    "aw = widgets.IntText(description  = \"a: \", value = 3)\n",
    "nw = widgets.IntText(description = \"n: \", value = 3)\n",
    "mw = widgets.IntText(description = \"m: \", value = 3)\n",
    "interact(fast_exp_alg, a = aw, n = nw, m = mw)"
   ]
  },
  {
   "cell_type": "markdown",
   "metadata": {},
   "source": [
    "#### Test di Miller-Rabin\n",
    "\n",
    "Il test di Miller-Rabin serve per verificare se un numero è composto. Questo test richiede due argomenti $x$ ed $n$. Se il valore di ritorno è $true$ allora siamo certi che il numero $x$ sia composto, e diciamo che $n$ è testimone di Rabin per $x$.\n",
    "Se invece il test ritorna il valore $false$ non possiamo dire con certezza che il numero non sia composto, quindi occorre rieseguire un numero di volte abbastanza elevato per ridurre la probabilità di errore. La probabilità che il test restituisca $false$ con $x$ composto è di $\\frac{1}{4}$, quindi se si esegue il test $m$ volte con $n$ diversi la probabilità si riduce a $\\frac{1}{4^{m}} = 4^{-m}$."
   ]
  },
  {
   "cell_type": "code",
   "execution_count": 4,
   "metadata": {},
   "outputs": [
    {
     "data": {
      "application/vnd.jupyter.widget-view+json": {
       "model_id": "e9182f8b17134604a989958eda01d94a"
      }
     },
     "metadata": {},
     "output_type": "display_data"
    }
   ],
   "source": [
    "def rabin_test(x, n):\n",
    "    m, r, xr = n - 1, 0, []\n",
    "    while m % 2 == 0:\n",
    "        m = m // 2\n",
    "        r = r + 1\n",
    "    xr.append(fast_exp_alg(x, m, n))\n",
    "    for i in range(1, r + 1):\n",
    "        xr.append(fast_exp_alg(xr[i - 1], 2, n))\n",
    "    return (xr[0] != 1) and all(xi % n != n - 1 for xi in xr[0:-1])\n",
    "rabin_test_w = interact(rabin_test, x = widgets.IntText(description = \"x: \", value = 3), n = widgets.IntText(description = \"n: \", value = 2))"
   ]
  },
  {
   "cell_type": "markdown",
   "metadata": {},
   "source": [
    "#### Algoritmo per la generazione di numeri primi\n",
    "\n",
    "Questo algoritmo fa uso del test di Miller-Rabin per la generazione di un numero  primo di dimensione massima $10^{limit}$.\n",
    "L'algoritmo richiede un altro paramentro, ovvero $accuracy$, questo parametro non è altro che un intero che serve ad indicare quante volte ripetere il test di Miller-Rabin per il numero generato casualmente. "
   ]
  },
  {
   "cell_type": "code",
   "execution_count": 5,
   "metadata": {},
   "outputs": [
    {
     "data": {
      "application/vnd.jupyter.widget-view+json": {
       "model_id": "9f9c76722da04fdebcba8e6c8ca87c98"
      }
     },
     "metadata": {},
     "output_type": "display_data"
    },
    {
     "data": {
      "application/vnd.jupyter.widget-view+json": {
       "model_id": "eb9ad89a8bb14e12800c21aae12b9927"
      }
     },
     "metadata": {},
     "output_type": "display_data"
    },
    {
     "data": {
      "application/vnd.jupyter.widget-view+json": {
       "model_id": "e467f686ab874dc7a34a70c275e9e682"
      }
     },
     "metadata": {},
     "output_type": "display_data"
    }
   ],
   "source": [
    "def generate_random_prime(minimum, limit, accuracy):\n",
    "    random_number = 0\n",
    "    condition = True\n",
    "    while condition:\n",
    "        random_number = random.randint(minimum, limit)\n",
    "        if random_number % 2 != 0:\n",
    "            test_sample = [random.randint(2, limit) for i in range(0, accuracy)]\n",
    "            condition = any(rabin_test(x, random_number) for x in test_sample)\n",
    "    return random_number\n",
    "\n",
    "prime_slider_limit_1 = widgets.IntSlider(min = 2, max = 100, step = 1, description = \"numero di cifre: \")\n",
    "prime_slider_accuracy_1 = widgets.IntSlider(min = 1, max = 50, step = 1, description = \"accuracy: \")\n",
    "prime_button_generate = widgets.Button(description = \"Genera\")\n",
    "def run_test_prime_1(b):\n",
    "    print(generate_random_prime(10**(prime_slider_limit_1.value-1),(10**(prime_slider_limit_1.value)-1) , prime_slider_accuracy_1.value))\n",
    "prime_button_generate.on_click(run_test_prime_1)\n",
    "display(prime_slider_limit_1)\n",
    "display(prime_slider_accuracy_1)\n",
    "display(prime_button_generate)"
   ]
  },
  {
   "cell_type": "markdown",
   "metadata": {},
   "source": [
    "Verifichiamo ora i tempi di esecuzione dell'algoritmo variando $limit$ e $accuracy$."
   ]
  },
  {
   "cell_type": "code",
   "execution_count": 6,
   "metadata": {},
   "outputs": [
    {
     "data": {
      "application/vnd.jupyter.widget-view+json": {
       "model_id": "af12507a739a4fcf93555f959c07367e"
      }
     },
     "metadata": {},
     "output_type": "display_data"
    },
    {
     "data": {
      "application/vnd.jupyter.widget-view+json": {
       "model_id": "8f82336012b941539b2021d9acdb7b55"
      }
     },
     "metadata": {},
     "output_type": "display_data"
    },
    {
     "data": {
      "application/vnd.jupyter.widget-view+json": {
       "model_id": "130a2193007146d1ba7138d792760927"
      }
     },
     "metadata": {},
     "output_type": "display_data"
    }
   ],
   "source": [
    "prime_slider_limit = widgets.IntSlider(min = 2, max = 100, step = 1, description = \"numero di cifre: \")\n",
    "prime_slider_accuracy = widgets.IntSlider(min = 1, max = 50, step = 1, description = \"accuracy: \")\n",
    "prime_button_run = widgets.Button(description = \"Esegui test\")\n",
    "def run_test_prime(b):\n",
    "    %timeit -n 100 generate_random_prime(10**(prime_slider_limit.value-1), (10**(prime_slider_limit.value)-1), prime_slider_accuracy.value)\n",
    "prime_button_run.on_click(run_test_prime)\n",
    "display(prime_slider_limit)\n",
    "display(prime_slider_accuracy)\n",
    "display(prime_button_run)"
   ]
  },
  {
   "cell_type": "markdown",
   "metadata": {},
   "source": [
    "#### RSA\n",
    "\n",
    "Dopo aver implementato tutti gli algoritmi precedenti siamo pronti per implementare RSA. Sono state implementate due versioni, la prima standard, e la seconda che fa uso delle ottimizzazioni derivate dal Teorema Cinese Del Resto.\n",
    "\n",
    "Per prima cosa è stata definita una funzione che, dati due numeri primi $p$ e $q$ genera la chiave pubblica e privata. Il primo elemento della tupla che restituisce è la chiave pubblica che verrà usata per criptare il Plain Text, il secondo elemento invece è la chiave privata, che verrà usata per decriptare il Cypher Text.\n",
    "\n",
    "Durante la descrizione dell'algoritmo si seguirà l'esempio delle Note, per far sì che i risultati siano coerenti con quelli dell'esempio non possiamo generare casualmente il numero primo $d$, quindi verrà ECCEZIONALMENTE passato come input del generatore di chiave."
   ]
  },
  {
   "cell_type": "code",
   "execution_count": 7,
   "metadata": {},
   "outputs": [
    {
     "data": {
      "application/vnd.jupyter.widget-view+json": {
       "model_id": "88d654593cae4478b7d5be7c169f208d"
      }
     },
     "metadata": {},
     "output_type": "display_data"
    }
   ],
   "source": [
    "def generate_rsa_key(p, q, d):\n",
    "    n = p * q\n",
    "    phi = (p - 1) * (q - 1)\n",
    "    if d == 0:\n",
    "        d = generate_random_prime(2, n-1, 5)\n",
    "        while extended_euclidean_algorithm(d, phi)[0] != 1:\n",
    "            d = generate_random_prime(2, n-1, 16)\n",
    "    e = extended_euclidean_algorithm(d, phi)\n",
    "    kp = (e[1], n)\n",
    "    km = (d, n)\n",
    "    return kp, km\n",
    "standard_keys = interactive(generate_rsa_key, \n",
    "         p = widgets.IntText(description = \"p: \", value = 3), \n",
    "         q = widgets.IntText(description = \"q: \", value = 11), \n",
    "         d = widgets.IntText(description = \"d: \", value = 7))\n",
    "display(standard_keys)"
   ]
  },
  {
   "cell_type": "markdown",
   "metadata": {},
   "source": [
    "Con le chiavi appena generate è possibile cifrare un Plain Text $m$.\n"
   ]
  },
  {
   "cell_type": "code",
   "execution_count": 8,
   "metadata": {},
   "outputs": [
    {
     "data": {
      "application/vnd.jupyter.widget-view+json": {
       "model_id": "730f40d1becb444282538a76eaba5407"
      }
     },
     "metadata": {},
     "output_type": "display_data"
    }
   ],
   "source": [
    "def rsa_encrypt(m, kp):\n",
    "    return fast_exp_alg(m, kp[0], kp[1])\n",
    "standard_cypher_text = interactive(rsa_encrypt, m = widgets.IntText(description = \"m: \", value = 8), kp = fixed(standard_keys.result[0]))\n",
    "display(standard_cypher_text)"
   ]
  },
  {
   "cell_type": "markdown",
   "metadata": {},
   "source": [
    "Dato il Cypher Text appena generato proviamo a decriptarlo per vedere se si ottiene lo stesso $m$ passatogli in input."
   ]
  },
  {
   "cell_type": "code",
   "execution_count": 9,
   "metadata": {},
   "outputs": [
    {
     "data": {
      "application/vnd.jupyter.widget-view+json": {
       "model_id": "277b3a6e44bf45bba3482928d41a3cb2"
      }
     },
     "metadata": {},
     "output_type": "display_data"
    },
    {
     "data": {
      "application/vnd.jupyter.widget-view+json": {
       "model_id": "8c31bb498e4c4a4689b6b000d704b3b8"
      }
     },
     "metadata": {},
     "output_type": "display_data"
    }
   ],
   "source": [
    "def rsa_decrypt(c, km):\n",
    "    return fast_exp_alg(c, km[0], km[1])\n",
    "\n",
    "\n",
    "standard_decrypt = interactive(rsa_decrypt, c = fixed(standard_cypher_text.result), km = fixed(standard_keys.result[1]))\n",
    "decrypt_button = widgets.Button(description = \"Decrypt\")\n",
    "def decrypt_button_function(b):\n",
    "    change_output(rsa_decrypt(standard_cypher_text.result, standard_keys.result[1]))\n",
    "decrypt_button.on_click(decrypt_button_function)\n",
    "display(standard_decrypt)\n",
    "display(decrypt_button)"
   ]
  },
  {
   "cell_type": "markdown",
   "metadata": {},
   "source": [
    "Vediamo ora le ottimizzazioni che si possono ottenere attraverso l'uso del Teorema Cinese del resto.\n",
    "\n",
    "Innanzitutto cambia il modo di generare la chiave, in quanto la chiave privata non è più una tupla, ma una quintupla.\n",
    "Come prima, per seguire l'esempio delle note è necessario passare in input alla funzione di generazione della chiave un valore prefissato per $d$."
   ]
  },
  {
   "cell_type": "code",
   "execution_count": 10,
   "metadata": {},
   "outputs": [
    {
     "data": {
      "application/vnd.jupyter.widget-view+json": {
       "model_id": "0d24e8d0357d4754b9c84018305f7fe0"
      }
     },
     "metadata": {},
     "output_type": "display_data"
    }
   ],
   "source": [
    "def generate_rsa_crt_key(p, q, d):\n",
    "    n = p * q\n",
    "    phi = (p - 1) * (q - 1)\n",
    "    if d == 0:\n",
    "        d = generate_random_prime(2, n - 1, 5)\n",
    "        while d != 1 and extended_euclidean_algorithm(d, phi)[0] != 1:\n",
    "            d = generate_random_prime(2, n-1, 5)\n",
    "    q_inv = extended_euclidean_algorithm(q, p)[1]\n",
    "    p_inv = extended_euclidean_algorithm(p, q)[1]\n",
    "    e = extended_euclidean_algorithm(d, phi)\n",
    "    kp = (e[1], n)\n",
    "    km = (p, q, d, p_inv*p, q_inv*q)\n",
    "    return kp, km\n",
    "\n",
    "crt_keys = interactive(generate_rsa_crt_key, \n",
    "         p = widgets.IntText(description = \"p: \", value = 3), \n",
    "         q = widgets.IntText(description = \"q: \", value = 11), \n",
    "         d = widgets.IntText(description = \"d: \", value = 7))\n",
    "display(crt_keys)"
   ]
  },
  {
   "cell_type": "markdown",
   "metadata": {},
   "source": [
    "Visto che la chiave pubblica che si usa per criptare il messaggio ha la stessa forma della chiave pubblica che si usa per la versione senza ottimizzazioni è possibile riusare la stessa funzione per criptare il messaggio."
   ]
  },
  {
   "cell_type": "code",
   "execution_count": 11,
   "metadata": {},
   "outputs": [
    {
     "data": {
      "application/vnd.jupyter.widget-view+json": {
       "model_id": "20cc49e320454d68aea05c6d0420b368"
      }
     },
     "metadata": {},
     "output_type": "display_data"
    }
   ],
   "source": [
    "crt_cypher_text = interactive(rsa_encrypt, m = widgets.IntText(description = \"m: \", value = 8), kp = fixed(crt_keys.result[0]))\n",
    "display(crt_cypher_text)"
   ]
  },
  {
   "cell_type": "markdown",
   "metadata": {},
   "source": [
    "Infatti come si può notare il risultato è lo stesso.\n",
    "\n",
    "Vediamo ora se funziona tutto eseguendo la decodifica."
   ]
  },
  {
   "cell_type": "code",
   "execution_count": 12,
   "metadata": {},
   "outputs": [
    {
     "data": {
      "application/vnd.jupyter.widget-view+json": {
       "model_id": "0a7c5ac44c5d40f296cdf142252616d2"
      }
     },
     "metadata": {},
     "output_type": "display_data"
    },
    {
     "data": {
      "application/vnd.jupyter.widget-view+json": {
       "model_id": "7c8bd56e7b5b4b369ecd5f5dc185b8c7"
      }
     },
     "metadata": {},
     "output_type": "display_data"
    }
   ],
   "source": [
    "def rsa_decrypt_crt(c, km):\n",
    "    mp = fast_exp_alg(c, km[2], km[0])\n",
    "    mq = fast_exp_alg(c, km[2], km[1])\n",
    "    return ((mp * km[4]) + (mq * km[3]))%(km[0]*km[1])\n",
    "\n",
    "\n",
    "crt_decrypt = interactive(rsa_decrypt_crt, c = fixed(crt_cypher_text.result), km = fixed(crt_keys.result[1]))\n",
    "decrypt_crt_button = widgets.Button(description = \"Decrypt\")\n",
    "def decrypt_crt_button_function(b):\n",
    "    change_output(rsa_decrypt_crt(crt_cypher_text.result, crt_keys.result[1]))\n",
    "decrypt_crt_button.on_click(decrypt_crt_button_function)\n",
    "display(crt_decrypt)\n",
    "display(decrypt_crt_button)"
   ]
  },
  {
   "cell_type": "markdown",
   "metadata": {
    "collapsed": true
   },
   "source": [
    "Come richiesto dal testo dell'esercizio effettuiamo un test delle prestazioni, innanzitutto fissiamo un $p$ ed un $q$ di dimensione realistica, e calcoliamo quindi il modulo RSA $n$.\n",
    "Ovviamente devo fissare anche il valore $d$ in maniera tale da generare lo stesso set di chiavi per la versione CRT e standard."
   ]
  },
  {
   "cell_type": "code",
   "execution_count": 13,
   "metadata": {
    "collapsed": true
   },
   "outputs": [],
   "source": [
    "p_test = generate_random_prime(10**100, (10**101)-1, 16)\n",
    "q_test = generate_random_prime(10**100, (10**101)-1, 16)\n",
    "phi_test = (p_test - 1) * (q_test - 1)\n",
    "n_test = p_test*q_test\n",
    "d_test = generate_random_prime(2, n_test - 1, 16)\n",
    "while d_test != 1 and extended_euclidean_algorithm(d_test, phi_test)[0] != 1:\n",
    "    d_test = generate_random_prime(2, n_test - 1, 16)"
   ]
  },
  {
   "cell_type": "markdown",
   "metadata": {},
   "source": [
    "Generiamo quindi la chiave per RSA standard e RSA con ottimizzazioni CRT."
   ]
  },
  {
   "cell_type": "code",
   "execution_count": 14,
   "metadata": {},
   "outputs": [
    {
     "data": {
      "text/plain": [
       "((550970573288696726129597975542836965963087883726808907369525310859764604269175824229455999791983673807463992865424790619202662568894626018780599270566903984968309158501476046248304139193601860202725505,\n",
       "  3357883564953937202316867248712564808771859899378874371348459251176166802960125932294007343145739594974804799350573272323354760858573871381191493830766018300722386587421724797240477331376592015193545367),\n",
       " (3092879211442378686103076494370738817651568807893871154069278072171563010534690965084961277633844927768293615658752365685120032144441446873188422809252737373029376983794926812075333832256252689390454817,\n",
       "  3357883564953937202316867248712564808771859899378874371348459251176166802960125932294007343145739594974804799350573272323354760858573871381191493830766018300722386587421724797240477331376592015193545367))"
      ]
     },
     "execution_count": 14,
     "metadata": {},
     "output_type": "execute_result"
    }
   ],
   "source": [
    "standard_test_keys = generate_rsa_key(p_test, q_test, d_test)\n",
    "standard_test_keys"
   ]
  },
  {
   "cell_type": "code",
   "execution_count": 15,
   "metadata": {},
   "outputs": [
    {
     "data": {
      "text/plain": [
       "((550970573288696726129597975542836965963087883726808907369525310859764604269175824229455999791983673807463992865424790619202662568894626018780599270566903984968309158501476046248304139193601860202725505,\n",
       "  3357883564953937202316867248712564808771859899378874371348459251176166802960125932294007343145739594974804799350573272323354760858573871381191493830766018300722386587421724797240477331376592015193545367),\n",
       " (86417299810695199099364673627696695628103687079206690111204400763379744086044604280306469369942083273,\n",
       "  38856612880866222011128668182945654504804917914568449048782345179240169466334671911116959267211011679,\n",
       "  3092879211442378686103076494370738817651568807893871154069278072171563010534690965084961277633844927768293615658752365685120032144441446873188422809252737373029376983794926812075333832256252689390454817,\n",
       "  998369987793606972659648778071698202840158205494154047426188518927537224117444824020371222128049886039839165607365292256026516489732957449178631959666925932380422488647436536928426870221112842614197223,\n",
       "  2359513577160330229657218470640866605931701693884720323922270732248629578842681108273636121017689708934965633743207980067328244368840913932012861871099092368341964098774288260312050461155479172579348145))"
      ]
     },
     "execution_count": 15,
     "metadata": {},
     "output_type": "execute_result"
    }
   ],
   "source": [
    "crt_test_keys =  generate_rsa_crt_key(p_test, q_test, d_test)\n",
    "crt_test_keys"
   ]
  },
  {
   "cell_type": "markdown",
   "metadata": {
    "hideCode": false
   },
   "source": [
    "Effettuiamo ora un test delle prestazioni scegliendo 100 plain text casuali. Per prima cosa generiamo i 100 plain text, successivamente si cifrano."
   ]
  },
  {
   "cell_type": "code",
   "execution_count": 16,
   "metadata": {
    "collapsed": true
   },
   "outputs": [],
   "source": [
    "plain_text_test = [random.randint(1, 10**50) for i in range(0, 100)]\n",
    "cypher_text_test = [rsa_encrypt(m, standard_test_keys[0]) for m in plain_text_test]"
   ]
  },
  {
   "cell_type": "markdown",
   "metadata": {},
   "source": [
    "Prima di effettuare un test sui tempi di decodifica dei messaggi vediamo se l'intera procedura funziona correttamente."
   ]
  },
  {
   "cell_type": "code",
   "execution_count": 17,
   "metadata": {},
   "outputs": [
    {
     "data": {
      "text/plain": [
       "True"
      ]
     },
     "execution_count": 17,
     "metadata": {},
     "output_type": "execute_result"
    }
   ],
   "source": [
    "result_vector = [rsa_decrypt(c, standard_test_keys[1]) for c in cypher_text_test]\n",
    "result_vector == plain_text_test"
   ]
  },
  {
   "cell_type": "markdown",
   "metadata": {},
   "source": [
    "Siamo ora pronti per verificare i tempi di esecuzione:"
   ]
  },
  {
   "cell_type": "code",
   "execution_count": 18,
   "metadata": {},
   "outputs": [
    {
     "name": "stdout",
     "output_type": "stream",
     "text": [
      "31.5 ns ± 2 ns per loop (mean ± std. dev. of 7 runs, 10000000 loops each)\n"
     ]
    }
   ],
   "source": [
    "def decrypting_test():\n",
    "    for c in cypher_text_test:\n",
    "        rsa_decrypt(c, standard_test_keys[1])\n",
    "standard_time = %timeit -o decrypting_test"
   ]
  },
  {
   "cell_type": "markdown",
   "metadata": {},
   "source": [
    "Con gli stessi Cypher Text proviamo ora la versione ottimizzata che fa uso del Teorema Cinese del Resto."
   ]
  },
  {
   "cell_type": "code",
   "execution_count": 19,
   "metadata": {},
   "outputs": [
    {
     "name": "stdout",
     "output_type": "stream",
     "text": [
      "32.6 ns ± 2.81 ns per loop (mean ± std. dev. of 7 runs, 10000000 loops each)\n"
     ]
    }
   ],
   "source": [
    "def decrypting_test_crt():\n",
    "    for c in cypher_text_test:\n",
    "        rsa_decrypt_crt(c, crt_test_keys[1])\n",
    "crt_time = %timeit -o decrypting_test_crt"
   ]
  },
  {
   "cell_type": "markdown",
   "metadata": {
    "collapsed": true
   },
   "source": [
    "Come si può notare lo speedup ottenuto non è molto evidente, facendo una rapida operazione si può calcolare lo speedup in percentuale."
   ]
  },
  {
   "cell_type": "code",
   "execution_count": 21,
   "metadata": {},
   "outputs": [
    {
     "data": {
      "text/plain": [
       "-2.437761038330166"
      ]
     },
     "execution_count": 21,
     "metadata": {},
     "output_type": "execute_result"
    }
   ],
   "source": [
    "def calc_speedup():\n",
    "    return ((standard_time.best / crt_time.best)-1)*100\n",
    "calc_speedup()"
   ]
  },
  {
   "cell_type": "markdown",
   "metadata": {},
   "source": []
  }
 ],
 "metadata": {
  "kernelspec": {
   "display_name": "Python 3",
   "language": "python",
   "name": "python3"
  },
  "language_info": {
   "codemirror_mode": {
    "name": "ipython",
    "version": 3
   },
   "file_extension": ".py",
   "mimetype": "text/x-python",
   "name": "python",
   "nbconvert_exporter": "python",
   "pygments_lexer": "ipython3",
   "version": "3.6.1"
  },
  "widgets": {
   "state": {
    "003a502a88d4480890dfdba5c098c8fe": {
     "views": [
      {
       "cell_index": 13
      }
     ]
    },
    "051c10fcd4c44e9882a19d9f3efe5a98": {
     "views": [
      {
       "cell_index": 25
      }
     ]
    },
    "0cb05a0c28d943e6943e4b57437a1148": {
     "views": [
      {
       "cell_index": 13
      }
     ]
    },
    "0fa9cbcb647644b38fe592bc01f22d6c": {
     "views": [
      {
       "cell_index": 19
      }
     ]
    },
    "18c489b13a4c41648bdb4aa11a9a502c": {
     "views": [
      {
       "cell_index": 11
      }
     ]
    },
    "1b8527fd528d4861842f7896c8a87cf7": {
     "views": [
      {
       "cell_index": 11
      }
     ]
    },
    "27eadac3c7db4ebb87245f1bd80428cd": {
     "views": [
      {
       "cell_index": 11
      }
     ]
    },
    "33c9a44fb6534fc0bff98d011bccc42d": {
     "views": [
      {
       "cell_index": 15
      }
     ]
    },
    "373ef0cb662f418d888cb39233fd9b42": {
     "views": [
      {
       "cell_index": 13
      }
     ]
    },
    "5186fdcda1ad4e21ab8b9cac8c7cdb42": {
     "views": [
      {
       "cell_index": 5
      }
     ]
    },
    "5203de370fcb4ba6afd2edf2c0f1a70e": {
     "views": [
      {
       "cell_index": 11
      }
     ]
    },
    "62ab3a76c0aa45328e7654013f3616fa": {
     "views": [
      {
       "cell_index": 13
      }
     ]
    },
    "6713d51b2e45445d9f9954b42ccd0d7f": {
     "views": [
      {
       "cell_index": 17
      }
     ]
    },
    "7fa649354d8c421097b7db59764ca9df": {
     "views": [
      {
       "cell_index": 23
      }
     ]
    },
    "86d2006187014d1aab53daee8e1da7f5": {
     "views": [
      {
       "cell_index": 19
      }
     ]
    },
    "8e042d2067e646dda3ba6d18e3633fea": {
     "views": [
      {
       "cell_index": 19
      }
     ]
    },
    "9c2190c2c9014d219246aed798ec3c1b": {
     "views": [
      {
       "cell_index": 25
      }
     ]
    },
    "9d930a786ed74e2c836821b6bb1a1589": {
     "views": [
      {
       "cell_index": 19
      }
     ]
    },
    "a6cfccfafe7344b0ac38147ae09fdd01": {
     "views": [
      {
       "cell_index": 11
      }
     ]
    },
    "a7f837e24dac493ab81e49f56eb50a67": {
     "views": [
      {
       "cell_index": 9
      }
     ]
    },
    "b95f19b4858045faa329fbee9c6f4d5f": {
     "views": [
      {
       "cell_index": 21
      }
     ]
    },
    "bdaf94415ece4792b37480c53e6edbb2": {
     "views": [
      {
       "cell_index": 19
      }
     ]
    },
    "c1cabf4f3de54159a87a0b2ca073cc08": {
     "views": [
      {
       "cell_index": 25
      }
     ]
    },
    "c4df70c3486b48e19fed54b469c3d77d": {
     "views": [
      {
       "cell_index": 13
      }
     ]
    },
    "c6d5b3cd1704419cbbf18f7d9a8ae2b9": {
     "views": [
      {
       "cell_index": 25
      }
     ]
    },
    "d73e1a97eecb4b9a8ce293819088ecb8": {
     "views": [
      {
       "cell_index": 25
      }
     ]
    },
    "e8627bff4ee34acbba3becee091dbed8": {
     "views": [
      {
       "cell_index": 7
      }
     ]
    },
    "f5c598f1021a41bb9e8a82704cc6dc8e": {
     "views": [
      {
       "cell_index": 13
      }
     ]
    },
    "fa52c7c268954d2f8f7274df5bc7449b": {
     "views": [
      {
       "cell_index": 11
      }
     ]
    }
   },
   "version": "1.2.0"
  }
 },
 "nbformat": 4,
 "nbformat_minor": 1
}
