{
 "cells": [
  {
   "cell_type": "markdown",
   "metadata": {
    "collapsed": true
   },
   "source": [
    "# Secondo set di  Esercizi\n",
    "\n",
    "#### Federico Schipani, 6185896, [federico.schipani@stud.unifi.it](mailto:federico.schipani@stud.unifi.it)\n",
    "\n",
    "##### Prerequisiti\n",
    "Per eseguire in maniera interattiva questo notebook è necessario avviare un server Jupyter. Se si fa uso dell'interprete Anaconda questo risulta già installato, sennò è necessario installarlo con il comando:\n",
    "\n",
    "```\n",
    "pip install jupyter\n",
    "```\n",
    "Una volta completata l'installazione per avviare il server è sufficiente aprire un terminale, posizionarsi nella cartella dove è stato salvato questo notebook e dare il comando\n",
    "```\n",
    "jupyter notebook\n",
    "```\n",
    "successivamente si aprirà una finestra del browser dove è possibile selezionare il notebook da eseguire.\n",
    "\n",
    "Per questo notebook è stato fatto uso di una [libreria](https://github.com/jupyter-widgets/ipywidgets) per generare widget interattivi in HTML, per installare questa libreria è sufficiente dare i seguenti due comandi sul terminale:\n",
    "```\n",
    "pip install ipywidgets\n",
    "jupyter nbextension enable --py widgetsnbextension\n",
    "```"
   ]
  },
  {
   "cell_type": "markdown",
   "metadata": {},
   "source": [
    "### Primo esercizio di programmazione"
   ]
  },
  {
   "cell_type": "markdown",
   "metadata": {},
   "source": [
    "Il seguente esercizio richiedeva innanzitutto di implementare cinque algoritmi:\n",
    "1. Algoritmo di Euclide esteso\n",
    "2. Algoritmo di esponenziazione modulare veloce\n",
    "3. Test di Miller-Rabin\n",
    "4. Algoritmo per la generazione di numeri primi\n",
    "5. Schema RSA, con e senza ottimizzazione CRT\n",
    "\n",
    "\n",
    "Vediamo le varie implementazioni in ordine. Partiamo innanzitutto importando le librerie necessarie."
   ]
  },
  {
   "cell_type": "code",
   "execution_count": 1,
   "metadata": {
    "collapsed": true
   },
   "outputs": [],
   "source": [
    "import math\n",
    "import random\n",
    "import timeit\n",
    "from ipywidgets import widgets, interact_manual, interact, interactive, fixed\n",
    "from IPython.display import display\n",
    "import sys\n",
    "from IPython.core.display import clear_output\n",
    "def change_output(x):\n",
    "    clear_output()\n",
    "    sys.stdout.write(str(x))\n",
    "    sys.stdout.flush()"
   ]
  },
  {
   "cell_type": "markdown",
   "metadata": {},
   "source": [
    "#### Algoritmo di Euclide esteso\n",
    "Il codice che mostra l'algoritmo di Euclide Esteso è mostrato nel box sottostante. Questo algoritmo calcola l'MCD tra il numero $a$ e il numero $b$ e restituisce una tupla dove il primo elemento è l'MCD, ed il secondo è l'eventuale inverso di $a\\ mod\\ b$.\n",
    "Questo inverso esiste solo se l'MCD è uguale a $1$."
   ]
  },
  {
   "cell_type": "code",
   "execution_count": 2,
   "metadata": {
    "collapsed": false
   },
   "outputs": [
    {
     "data": {
      "text/plain": [
       "(0, 0)"
      ]
     },
     "metadata": {},
     "output_type": "display_data"
    }
   ],
   "source": [
    "def extended_euclidean_algorithm(a, b):\n",
    "    rm = b\n",
    "    rm1 = a\n",
    "    qm1 = 1\n",
    "    t = 0\n",
    "    while rm1 != 0:\n",
    "        q = math.floor(rm / rm1)\n",
    "        temp = t\n",
    "        t = qm1\n",
    "        qm1 = temp - q * qm1\n",
    "        temp = rm\n",
    "        rm = rm1\n",
    "        rm1 = temp - q * rm1\n",
    "    if t < 0:\n",
    "        t = t + b\n",
    "    if rm>1:\n",
    "        t = \"ND\"\n",
    "    return rm, t\n",
    "euclidean_w = interact(extended_euclidean_algorithm, a = widgets.IntText(description = \"a: \"), b = widgets.IntText(description = \"b: \"))"
   ]
  },
  {
   "cell_type": "markdown",
   "metadata": {
    "collapsed": false
   },
   "source": [
    "#### Algoritmo di esponenziazione modulare veloce\n",
    "\n",
    "Questo algoritmo permette di calcolare in maniera efficiente e veloce il risultato di $a^{n}\\ mod\\ m$."
   ]
  },
  {
   "cell_type": "code",
   "execution_count": 3,
   "metadata": {
    "collapsed": false
   },
   "outputs": [
    {
     "data": {
      "text/plain": [
       "0"
      ]
     },
     "metadata": {},
     "output_type": "display_data"
    },
    {
     "data": {
      "text/plain": [
       "<function __main__.fast_exp_alg>"
      ]
     },
     "execution_count": 3,
     "metadata": {},
     "output_type": "execute_result"
    }
   ],
   "source": [
    "def fast_exp_alg(a, n, m):\n",
    "    d, c = 1, 0\n",
    "    bin_n = \"{0:b}\".format(n)\n",
    "    for i in bin_n:\n",
    "        d = (d * d) % m\n",
    "        if int(i) == 1:\n",
    "            d = (d * a) % m\n",
    "    return d\n",
    "aw = widgets.IntText(description  = \"a: \", value = 3)\n",
    "nw = widgets.IntText(description = \"n: \", value = 3)\n",
    "mw = widgets.IntText(description = \"m: \", value = 3)\n",
    "interact(fast_exp_alg, a = aw, n = nw, m = mw)"
   ]
  },
  {
   "cell_type": "markdown",
   "metadata": {},
   "source": [
    "#### Test di Miller-Rabin\n",
    "\n",
    "Il test di Miller-Rabin serve per verificare se un numero è composto. Questo test richiede due argomenti $x$ ed $n$. Se il valore di ritorno è $true$ allora siamo certi che il numero $x$ sia composto, e diciamo che $n$ è testimone di Rabin per $x$.\n",
    "Se invece il test ritorna il valore $false$ non possiamo dire con certezza che il numero non sia composto, quindi occorre rieseguire un numero di volte abbastanza elevato per ridurre la probabilità di errore. La probabilità che il test restituisca $false$ con $x$ composto è di $\\frac{1}{4}$, quindi se si esegue il test $m$ volte con $n$ diversi la probabilità si riduce a $\\frac{1}{4^{m}} = 4^{-m}$."
   ]
  },
  {
   "cell_type": "code",
   "execution_count": 4,
   "metadata": {
    "collapsed": false
   },
   "outputs": [
    {
     "data": {
      "text/plain": [
       "False"
      ]
     },
     "metadata": {},
     "output_type": "display_data"
    }
   ],
   "source": [
    "def rabin_test(x, n):\n",
    "    m, r, xr = n - 1, 0, []\n",
    "    while m % 2 == 0:\n",
    "        m = m // 2\n",
    "        r = r + 1\n",
    "    xr.append(fast_exp_alg(x, m, n))\n",
    "    for i in range(1, r + 1):\n",
    "        xr.append(fast_exp_alg(xr[i - 1], 2, n))\n",
    "    return (xr[0] != 1) and all(xi % n != n - 1 for xi in xr[0:-1])\n",
    "rabin_test_w = interact(rabin_test, x = widgets.IntText(description = \"x: \", value = 3), n = widgets.IntText(description = \"n: \", value = 2))"
   ]
  },
  {
   "cell_type": "markdown",
   "metadata": {},
   "source": [
    "#### Algoritmo per la generazione di numeri primi\n",
    "\n",
    "Questo algoritmo fa uso del test di Miller-Rabin per la generazione di un numero  primo di dimensione massima $10^{limit}$.\n",
    "L'algoritmo richiede un altro paramentro, ovvero $accuracy$, questo parametro non è altro che un intero che serve ad indicare quante volte ripetere il test di Miller-Rabin per il numero generato casualmente. "
   ]
  },
  {
   "cell_type": "code",
   "execution_count": 5,
   "metadata": {
    "collapsed": false
   },
   "outputs": [],
   "source": [
    "def generate_random_prime(minimum, limit, accuracy):\n",
    "    random_number = 0\n",
    "    condition = True\n",
    "    while condition:\n",
    "        random_number = random.randint(minimum, limit)\n",
    "        if random_number % 2 != 0:\n",
    "            test_sample = [random.randint(2, limit) for i in range(0, accuracy)]\n",
    "            condition = any(rabin_test(x, random_number) for x in test_sample)\n",
    "    return random_number\n",
    "\n",
    "prime_slider_limit_1 = widgets.IntSlider(min = 2, max = 100, step = 1, description = \"numero di cifre: \")\n",
    "prime_slider_accuracy_1 = widgets.IntSlider(min = 1, max = 50, step = 1, description = \"accuracy: \")\n",
    "prime_button_generate = widgets.Button(description = \"Genera\")\n",
    "def run_test_prime_1(b):\n",
    "    print(generate_random_prime(10**(prime_slider_limit_1.value-1),(10**(prime_slider_limit_1.value)-1) , prime_slider_accuracy_1.value))\n",
    "prime_button_generate.on_click(run_test_prime_1)\n",
    "display(prime_slider_limit_1)\n",
    "display(prime_slider_accuracy_1)\n",
    "display(prime_button_generate)"
   ]
  },
  {
   "cell_type": "markdown",
   "metadata": {},
   "source": [
    "Verifichiamo ora i tempi di esecuzione dell'algoritmo variando $limit$ e $accuracy$."
   ]
  },
  {
   "cell_type": "code",
   "execution_count": 6,
   "metadata": {
    "collapsed": false
   },
   "outputs": [],
   "source": [
    "prime_slider_limit = widgets.IntSlider(min = 2, max = 100, step = 1, description = \"numero di cifre: \")\n",
    "prime_slider_accuracy = widgets.IntSlider(min = 1, max = 50, step = 1, description = \"accuracy: \")\n",
    "prime_button_run = widgets.Button(description = \"Esegui test\")\n",
    "def run_test_prime(b):\n",
    "    %timeit -n 100 generate_random_prime(10**(prime_slider_limit.value-1), (10**(prime_slider_limit.value)-1), prime_slider_accuracy.value)\n",
    "prime_button_run.on_click(run_test_prime)\n",
    "display(prime_slider_limit)\n",
    "display(prime_slider_accuracy)\n",
    "display(prime_button_run)"
   ]
  },
  {
   "cell_type": "markdown",
   "metadata": {},
   "source": [
    "#### RSA\n",
    "\n",
    "Dopo aver implementato tutti gli algoritmi precedenti siamo pronti per implementare RSA. Sono state implementate due versioni, la prima standard, e la seconda che fa uso delle ottimizzazioni derivate dal Teorema Cinese Del Resto.\n",
    "\n",
    "Per prima cosa è stata definita una funzione che, dati due numeri primi $p$ e $q$ genera la chiave pubblica e privata. Il primo elemento della tupla che restituisce è la chiave pubblica che verrà usata per criptare il Plain Text, il secondo elemento invece è la chiave privata, che verrà usata per decriptare il Cypher Text.\n",
    "\n",
    "Durante la descrizione dell'algoritmo si seguirà l'esempio delle Note, per far sì che i risultati siano coerenti con quelli dell'esempio non possiamo generare casualmente il numero primo $d$, quindi verrà ECCEZIONALMENTE passato come input del generatore di chiave."
   ]
  },
  {
   "cell_type": "code",
   "execution_count": 7,
   "metadata": {
    "collapsed": false
   },
   "outputs": [
    {
     "data": {
      "text/plain": [
       "((3, 33), (7, 33))"
      ]
     },
     "metadata": {},
     "output_type": "display_data"
    }
   ],
   "source": [
    "def generate_rsa_key(p, q, d):\n",
    "    n = p * q\n",
    "    phi = (p - 1) * (q - 1)\n",
    "    if d == 0:\n",
    "        d = generate_random_prime(2, n-1, 5)\n",
    "        while extended_euclidean_algorithm(d, phi)[0] != 1:\n",
    "            d = generate_random_prime(2, n-1, 16)\n",
    "    e = extended_euclidean_algorithm(d, phi)\n",
    "    kp = (e[1], n)\n",
    "    km = (d, n)\n",
    "    return kp, km\n",
    "standard_keys = interactive(generate_rsa_key, \n",
    "         p = widgets.IntText(description = \"p: \", value = 3), \n",
    "         q = widgets.IntText(description = \"q: \", value = 11), \n",
    "         d = widgets.IntText(description = \"d: \", value = 7))\n",
    "display(standard_keys)"
   ]
  },
  {
   "cell_type": "markdown",
   "metadata": {},
   "source": [
    "Con le chiavi appena generate è possibile cifrare un Plain Text $m$.\n"
   ]
  },
  {
   "cell_type": "code",
   "execution_count": 8,
   "metadata": {
    "collapsed": false
   },
   "outputs": [
    {
     "data": {
      "text/plain": [
       "17"
      ]
     },
     "metadata": {},
     "output_type": "display_data"
    }
   ],
   "source": [
    "def rsa_encrypt(m, kp):\n",
    "    return fast_exp_alg(m, kp[0], kp[1])\n",
    "standard_cypher_text = interactive(rsa_encrypt, m = widgets.IntText(description = \"m: \", value = 8), kp = fixed(standard_keys.result[0]))\n",
    "display(standard_cypher_text)"
   ]
  },
  {
   "cell_type": "markdown",
   "metadata": {},
   "source": [
    "Dato il Cypher Text appena generato proviamo a decriptarlo per vedere se si ottiene lo stesso $m$ passatogli in input."
   ]
  },
  {
   "cell_type": "code",
   "execution_count": 9,
   "metadata": {
    "collapsed": false
   },
   "outputs": [
    {
     "data": {
      "text/plain": [
       "8"
      ]
     },
     "metadata": {},
     "output_type": "display_data"
    }
   ],
   "source": [
    "def rsa_decrypt(c, km):\n",
    "    return fast_exp_alg(c, km[0], km[1])\n",
    "\n",
    "\n",
    "standard_decrypt = interactive(rsa_decrypt, c = fixed(standard_cypher_text.result), km = fixed(standard_keys.result[1]))\n",
    "decrypt_button = widgets.Button(description = \"Decrypt\")\n",
    "def decrypt_button_function(b):\n",
    "    change_output(rsa_decrypt(standard_cypher_text.result, standard_keys.result[1]))\n",
    "decrypt_button.on_click(decrypt_button_function)\n",
    "display(standard_decrypt)\n",
    "display(decrypt_button)"
   ]
  },
  {
   "cell_type": "markdown",
   "metadata": {},
   "source": [
    "Vediamo ora le ottimizzazioni che si possono ottenere attraverso l'uso del Teorema Cinese del resto.\n",
    "\n",
    "Innanzitutto cambia il modo di generare la chiave, in quanto la chiave privata non è più una tupla, ma una quintupla.\n",
    "Come prima, per seguire l'esempio delle note è necessario passare in input alla funzione di generazione della chiave un valore prefissato per $d$."
   ]
  },
  {
   "cell_type": "code",
   "execution_count": 10,
   "metadata": {
    "collapsed": false
   },
   "outputs": [
    {
     "data": {
      "text/plain": [
       "((3, 33), (3, 11, 1, 7, 2))"
      ]
     },
     "metadata": {},
     "output_type": "display_data"
    }
   ],
   "source": [
    "def generate_rsa_crt_key(p, q, d):\n",
    "    n = p * q\n",
    "    phi = (p - 1) * (q - 1)\n",
    "    if d == 0:\n",
    "        d = generate_random_prime(2, n - 1, 5)\n",
    "        while d != 1 and extended_euclidean_algorithm(d, phi)[0] != 1:\n",
    "            d = generate_random_prime(2, n-1, 5)\n",
    "    e = extended_euclidean_algorithm(d, phi)\n",
    "    dp = d % (p - 1)\n",
    "    if dp < 0:\n",
    "        dp = dp + p - 1\n",
    "    dq = d % (q - 1)\n",
    "    if dq < 0:\n",
    "        dq = dq + q - 1\n",
    "    q_inv = extended_euclidean_algorithm(q, p)[1]\n",
    "    kp = (e[1], n)\n",
    "    km = (p, q, dp, dq, q_inv)\n",
    "    return kp, km\n",
    "   \n",
    "crt_keys = interactive(generate_rsa_crt_key, \n",
    "         p = widgets.IntText(description = \"p: \", value = 3), \n",
    "         q = widgets.IntText(description = \"q: \", value = 11), \n",
    "         d = widgets.IntText(description = \"d: \", value = 7))\n",
    "display(crt_keys)"
   ]
  },
  {
   "cell_type": "markdown",
   "metadata": {},
   "source": [
    "Visto che la chiave pubblica che si usa per criptare il messaggio ha la stessa forma della chiave pubblica che si usa per la versione senza ottimizzazioni è possibile riusare la stessa funzione per criptare il messaggio."
   ]
  },
  {
   "cell_type": "code",
   "execution_count": 11,
   "metadata": {
    "collapsed": false
   },
   "outputs": [
    {
     "data": {
      "text/plain": [
       "17"
      ]
     },
     "metadata": {},
     "output_type": "display_data"
    }
   ],
   "source": [
    "crt_cypher_text = interactive(rsa_encrypt, m = widgets.IntText(description = \"m: \", value = 8), kp = fixed(crt_keys.result[0]))\n",
    "display(crt_cypher_text)"
   ]
  },
  {
   "cell_type": "markdown",
   "metadata": {},
   "source": [
    "Infatti come si può notare il risultato è lo stesso.\n",
    "\n",
    "Vediamo ora se funziona tutto eseguendo la decodifica."
   ]
  },
  {
   "cell_type": "code",
   "execution_count": 12,
   "metadata": {
    "collapsed": false
   },
   "outputs": [
    {
     "data": {
      "text/plain": [
       "8"
      ]
     },
     "metadata": {},
     "output_type": "display_data"
    }
   ],
   "source": [
    "def rsa_decrypt_crt(c, km):\n",
    "    m1 = fast_exp_alg(c, km[2], km[0])\n",
    "    m2 = fast_exp_alg(c, km[3], km[1])\n",
    "    h = km[4] * (m1 - m2) % km[0]\n",
    "    return m2 + h * km[1]\n",
    "\n",
    "crt_decrypt = interactive(rsa_decrypt_crt, c = fixed(crt_cypher_text.result), km = fixed(crt_keys.result[1]))\n",
    "decrypt_crt_button = widgets.Button(description = \"Decrypt\")\n",
    "def decrypt_crt_button_function(b):\n",
    "    change_output(rsa_decrypt_crt(crt_cypher_text.result, crt_keys.result[1]))\n",
    "decrypt_crt_button.on_click(decrypt_crt_button_function)\n",
    "display(crt_decrypt)\n",
    "display(decrypt_crt_button)"
   ]
  },
  {
   "cell_type": "markdown",
   "metadata": {
    "collapsed": true
   },
   "source": [
    "Come richiesto dal testo dell'esercizio effettuiamo un test delle prestazioni, innanzitutto fissiamo un $p$ ed un $q$ di dimensione realistica, e calcoliamo quindi il modulo RSA $n$.\n",
    "Ovviamente devo fissare anche il valore $d$ in maniera tale da generare lo stesso set di chiavi per la versione CRT e standard."
   ]
  },
  {
   "cell_type": "code",
   "execution_count": 13,
   "metadata": {
    "collapsed": false
   },
   "outputs": [],
   "source": [
    "p_test = generate_random_prime(10**100, (10**101)-1, 16)\n",
    "q_test = generate_random_prime(10**100, (10**101)-1, 16)\n",
    "phi_test = (p_test - 1) * (q_test - 1)\n",
    "n_test = p_test*q_test\n",
    "d_test = generate_random_prime(2, n_test - 1, 16)\n",
    "while d_test != 1 and extended_euclidean_algorithm(d_test, phi_test)[0] != 1:\n",
    "    d_test = generate_random_prime(2, n_test - 1, 16)"
   ]
  },
  {
   "cell_type": "markdown",
   "metadata": {},
   "source": [
    "Generiamo quindi la chiave per RSA standard e RSA con ottimizzazioni CRT."
   ]
  },
  {
   "cell_type": "code",
   "execution_count": 14,
   "metadata": {
    "collapsed": false
   },
   "outputs": [
    {
     "data": {
      "text/plain": [
       "((1695597039542115289597880964872530341490885954451986065245577949368688276674430205272131725888904441225541570228426245368301861670195554895453176106065394695887068453883012639345923212018450295015776119,\n",
       "  2774257457129700473879246145136241907065938053607933548779045483168371420836283400068301893724929571357003345258466474022923914634034525178198220042808871298903127944363769950606848630818031302352888141),\n",
       " (2736048793231486174675060325225854956293388672124782008813995696483439544601080376599043864143267780782687498933739200386429279021531559819379541603148201040201812999655686998881421119174911978267744927,\n",
       "  2774257457129700473879246145136241907065938053607933548779045483168371420836283400068301893724929571357003345258466474022923914634034525178198220042808871298903127944363769950606848630818031302352888141))"
      ]
     },
     "execution_count": 14,
     "metadata": {},
     "output_type": "execute_result"
    }
   ],
   "source": [
    "standard_test_keys = generate_rsa_key(p_test, q_test, d_test)\n",
    "standard_test_keys"
   ]
  },
  {
   "cell_type": "code",
   "execution_count": 15,
   "metadata": {
    "collapsed": false
   },
   "outputs": [
    {
     "data": {
      "text/plain": [
       "((1695597039542115289597880964872530341490885954451986065245577949368688276674430205272131725888904441225541570228426245368301861670195554895453176106065394695887068453883012639345923212018450295015776119,\n",
       "  2774257457129700473879246145136241907065938053607933548779045483168371420836283400068301893724929571357003345258466474022923914634034525178198220042808871298903127944363769950606848630818031302352888141),\n",
       " (28509760895200316655528408412438924774415462452920355579626744160721642847398263646324073163444610339,\n",
       "  97309039782117325697670028053306629296022364537331522211170490564917042925345465292477913835709210319,\n",
       "  6621461074209091441804382107207725747339715850751941615932501353491025138618591735577655593626689085,\n",
       "  37299154486240655565114751896431251127134773955284141774505715700508391215388714097358190755774055441,\n",
       "  16346950545640562198798804563319352121758552042514987943469787922039025369535902987357693455578310722))"
      ]
     },
     "execution_count": 15,
     "metadata": {},
     "output_type": "execute_result"
    }
   ],
   "source": [
    "crt_test_keys =  generate_rsa_crt_key(p_test, q_test, d_test)\n",
    "crt_test_keys"
   ]
  },
  {
   "cell_type": "markdown",
   "metadata": {
    "hideCode": false
   },
   "source": [
    "Effettuiamo ora un test delle prestazioni scegliendo 100 plain text casuali. Per prima cosa generiamo i 100 plain text, successivamente si cifrano."
   ]
  },
  {
   "cell_type": "code",
   "execution_count": 16,
   "metadata": {
    "collapsed": false
   },
   "outputs": [],
   "source": [
    "plain_text_test = [random.randint(1, 10**50) for i in range(0, 100)]\n",
    "cypher_text_test = [rsa_encrypt(m, standard_test_keys[0]) for m in plain_text_test]"
   ]
  },
  {
   "cell_type": "markdown",
   "metadata": {},
   "source": [
    "Prima di effettuare un test sui tempi di decodifica dei messaggi vediamo se l'intera procedura funziona correttamente."
   ]
  },
  {
   "cell_type": "code",
   "execution_count": 17,
   "metadata": {
    "collapsed": false
   },
   "outputs": [
    {
     "data": {
      "text/plain": [
       "True"
      ]
     },
     "execution_count": 17,
     "metadata": {},
     "output_type": "execute_result"
    }
   ],
   "source": [
    "result_vector = [rsa_decrypt(c, standard_test_keys[1]) for c in cypher_text_test]\n",
    "result_vector == plain_text_test"
   ]
  },
  {
   "cell_type": "markdown",
   "metadata": {},
   "source": [
    "Siamo ora pronti per verificare i tempi di esecuzione:"
   ]
  },
  {
   "cell_type": "code",
   "execution_count": 18,
   "metadata": {
    "collapsed": false
   },
   "outputs": [
    {
     "name": "stdout",
     "output_type": "stream",
     "text": [
      "10000000 loops, best of 3: 25.3 ns per loop\n"
     ]
    }
   ],
   "source": [
    "def decrypting_test():\n",
    "    for c in cypher_text_test:\n",
    "        rsa_decrypt(c, standard_test_keys[1])\n",
    "%timeit decrypting_test"
   ]
  },
  {
   "cell_type": "markdown",
   "metadata": {
    "collapsed": true
   },
   "source": []
  },
  {
   "cell_type": "code",
   "execution_count": 19,
   "metadata": {
    "collapsed": false
   },
   "outputs": [
    {
     "name": "stdout",
     "output_type": "stream",
     "text": [
      "15\n",
      "97\n"
     ]
    },
    {
     "data": {
      "text/plain": [
       "True"
      ]
     },
     "execution_count": 19,
     "metadata": {},
     "output_type": "execute_result"
    }
   ],
   "source": [
    "def generate_rsa_crt_key2(p, q, d):\n",
    "    n = p * q\n",
    "    phi = (p - 1) * (q - 1)\n",
    "    if d == 0:\n",
    "        d = generate_random_prime(2, n - 1, 5)\n",
    "        while d != 1 and extended_euclidean_algorithm(d, phi)[0] != 1:\n",
    "            d = generate_random_prime(2, n-1, 5)\n",
    "    q_inv = extended_euclidean_algorithm(q, p)[1]\n",
    "    p_inv = extended_euclidean_algorithm(p, q)[1]\n",
    "    e = extended_euclidean_algorithm(d, phi)\n",
    "    kp = (e[1], n)\n",
    "    km = (p, q, d, p_inv*p, q_inv*q)\n",
    "    return kp, km\n",
    "\n",
    "\n",
    "def rsa_decrypt2(c, km):\n",
    "    mp = fast_exp_alg(c, km[2], km[0])\n",
    "    mq = fast_exp_alg(c, km[2], km[1])\n",
    "    return ((mp * km[4]) + (mq * km[3]))%(km[0]*km[1])\n",
    "\n",
    "\n",
    "\n",
    "\n",
    "\n",
    "example = generate_rsa_crt_key2(13, 19, 173)\n",
    "print(rsa_decrypt2(97, example[1]))\n",
    "print(rsa_encrypt(15, example[0]))\n",
    "\n",
    "\n",
    "\n",
    "keys_test = generate_rsa_crt_key2(p_test, q_test, d_test)\n",
    "test_array = []\n",
    "def decrypt_test():\n",
    "    for c in cypher_text_test:\n",
    "        test_array.append(rsa_decrypt2(c, keys_test[1]))\n",
    "decrypt_test()\n",
    "test_array == plain_text_test"
   ]
  },
  {
   "cell_type": "code",
   "execution_count": null,
   "metadata": {
    "collapsed": true
   },
   "outputs": [],
   "source": []
  },
  {
   "cell_type": "code",
   "execution_count": null,
   "metadata": {
    "collapsed": true
   },
   "outputs": [],
   "source": []
  }
 ],
 "metadata": {
  "kernelspec": {
   "display_name": "Python 3",
   "language": "python",
   "name": "python3"
  },
  "language_info": {
   "codemirror_mode": {
    "name": "ipython",
    "version": 3
   },
   "file_extension": ".py",
   "mimetype": "text/x-python",
   "name": "python",
   "nbconvert_exporter": "python",
   "pygments_lexer": "ipython3",
   "version": "3.6.0"
  },
  "widgets": {
   "state": {
    "0198a345f0ba42f7bf2a7ed99ad5284d": {
     "views": [
      {
       "cell_index": 13
      }
     ]
    },
    "023821eb329c4470ac45af408dc8597f": {
     "views": [
      {
       "cell_index": 13
      }
     ]
    },
    "06f52cee5d844b2fbfa353ba4af62e70": {
     "views": [
      {
       "cell_index": 19
      }
     ]
    },
    "08fc60a1bce24eba94f6e6d23beb2665": {
     "views": [
      {
       "cell_index": 13
      }
     ]
    },
    "0d066a3f97fe47c6b02a786480539591": {
     "views": [
      {
       "cell_index": 11
      }
     ]
    },
    "0e0c7316a6f34a44ac097b9e6b6e795a": {
     "views": [
      {
       "cell_index": 13
      }
     ]
    },
    "121cd5ff298b4ae2a3b0143a1651d223": {
     "views": [
      {
       "cell_index": 25
      }
     ]
    },
    "137b2b8926134f3ba70858cc32efeeb3": {
     "views": [
      {
       "cell_index": 11
      }
     ]
    },
    "170116102b9e4f7081082c44f78f1b4a": {
     "views": [
      {
       "cell_index": 19
      }
     ]
    },
    "1cd538e970d54666a14ff09484911f93": {
     "views": [
      {
       "cell_index": 13
      }
     ]
    },
    "206ae594bfb84687a591258ab037572c": {
     "views": [
      {
       "cell_index": 19
      }
     ]
    },
    "2912dd92738043d5bc12e4854b022d69": {
     "views": [
      {
       "cell_index": 25
      }
     ]
    },
    "30c77a27fd5b4512983c14c0cc9e220d": {
     "views": [
      {
       "cell_index": 19
      }
     ]
    },
    "38d1f6aee6e446c3abf31d2ecd83a597": {
     "views": [
      {
       "cell_index": 19
      }
     ]
    },
    "3a7590246fa5402aa95d3acd2f0ebd1e": {
     "views": [
      {
       "cell_index": 17
      }
     ]
    },
    "3fd6b864280b4c288788336fa9f810de": {
     "views": [
      {
       "cell_index": 25
      }
     ]
    },
    "40f42a8b9033453691227a083ab58661": {
     "views": [
      {
       "cell_index": 25
      }
     ]
    },
    "49da804cc583416fa78d11f41b9408ca": {
     "views": [
      {
       "cell_index": 11
      }
     ]
    },
    "4dbe8e589f914c9e868a50fd1dd12b47": {
     "views": [
      {
       "cell_index": 11
      }
     ]
    },
    "612558b297cb4f2baf179324a160f65f": {
     "views": [
      {
       "cell_index": 19
      }
     ]
    },
    "645d077460774e8f8551586c6d627339": {
     "views": [
      {
       "cell_index": 11
      }
     ]
    },
    "68bc6373e3474279b8faafc21761a31b": {
     "views": [
      {
       "cell_index": 13
      }
     ]
    },
    "7099db77e96d407ba24c497400235d39": {
     "views": [
      {
       "cell_index": 25
      }
     ]
    },
    "7a9a28883f774ed6baafaffb9507a234": {
     "views": [
      {
       "cell_index": 13
      }
     ]
    },
    "7ddf6def91504f14bd160fd3a067ba5b": {
     "views": [
      {
       "cell_index": 13
      }
     ]
    },
    "7fd795478f1e481cb4625ffdaa064b7e": {
     "views": [
      {
       "cell_index": 11
      }
     ]
    },
    "80def3d572664b2e8ecde0300fbec1e3": {
     "views": [
      {
       "cell_index": 11
      }
     ]
    },
    "8424c389e0a5431d9a38f77fa5c20542": {
     "views": [
      {
       "cell_index": 13
      }
     ]
    },
    "86b55695ec224b12b30fdfe2abc87f81": {
     "views": [
      {
       "cell_index": 11
      }
     ]
    },
    "91cee4af521c488396af2d83e1060912": {
     "views": [
      {
       "cell_index": 5
      }
     ]
    },
    "a8ce27d2bcff41a2963b7dbfdd7a4e6b": {
     "views": [
      {
       "cell_index": 25
      }
     ]
    },
    "ac87e17b4d21409a94a94b91796ddbb5": {
     "views": [
      {
       "cell_index": 19
      }
     ]
    },
    "bd55f31a1c8b4cacb827309854220b39": {
     "views": [
      {
       "cell_index": 25
      }
     ]
    },
    "c5bcfba7338045bc82850d7510f65613": {
     "views": [
      {
       "cell_index": 7
      }
     ]
    },
    "c91ddfcf71f642c78060ecef16f19fc4": {
     "views": [
      {
       "cell_index": 9
      }
     ]
    },
    "d39e933a66974dbe8de5e23b8178bb3e": {
     "views": [
      {
       "cell_index": 19
      }
     ]
    },
    "d5d55182e6754022881886fa8ca58722": {
     "views": [
      {
       "cell_index": 25
      }
     ]
    },
    "de21b8a857fb4285a2f29ed02db73e60": {
     "views": [
      {
       "cell_index": 15
      }
     ]
    },
    "e12602f86e6a436895c0a3a1fe8fbc94": {
     "views": [
      {
       "cell_index": 21
      }
     ]
    },
    "ea2e681a4d364301b98d112838195632": {
     "views": [
      {
       "cell_index": 11
      }
     ]
    },
    "eea9d50f232044a2bdd84c93e3c8cd4e": {
     "views": [
      {
       "cell_index": 19
      }
     ]
    },
    "f1d1e13acbb5463c88a5870df1c1f2ae": {
     "views": [
      {
       "cell_index": 11
      }
     ]
    },
    "f6807a011a5c448d9967878398b61c96": {
     "views": [
      {
       "cell_index": 13
      }
     ]
    },
    "f7cd03ba1a8d423c9e46a06b094bce1d": {
     "views": [
      {
       "cell_index": 23
      }
     ]
    },
    "fe672026695c4e8080dd0625332744f9": {
     "views": [
      {
       "cell_index": 25
      }
     ]
    }
   },
   "version": "1.2.0"
  }
 },
 "nbformat": 4,
 "nbformat_minor": 0
}
